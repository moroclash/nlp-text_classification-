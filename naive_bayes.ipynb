{
 "cells": [
  {
   "cell_type": "code",
   "execution_count": 1,
   "metadata": {
    "_cell_guid": "6fa9c496-a4c6-44d9-bb89-f627b76756d1",
    "_execution_state": "idle",
    "_uuid": "a1434cf94b2b9fba357e16431771cf50a5e6ca90"
   },
   "outputs": [],
   "source": [
    "import pandas as pd\n",
    "from sklearn.model_selection import train_test_split\n",
    "import sklearn.feature_extraction.text as sktext\n",
    "from sklearn.naive_bayes import MultinomialNB\n",
    "import sklearn.metrics as matrics\n",
    "import seaborn as sns\n",
    "%matplotlib inline"
   ]
  },
  {
   "cell_type": "code",
   "execution_count": 2,
   "metadata": {},
   "outputs": [],
   "source": [
    "'''Reading dataset'''\n",
    "news_df = pd.read_csv(\"data/uci-news-aggregator.csv\")"
   ]
  },
  {
   "cell_type": "code",
   "execution_count": 3,
   "metadata": {
    "_cell_guid": "5b323b8b-4a55-4ca5-a607-d32a6974e208",
    "_execution_state": "idle",
    "_uuid": "8e473cb8ee4467054c79e2b672c4e5d249f90a9f"
   },
   "outputs": [],
   "source": [
    "'''\n",
    "    * News Category:\n",
    "        - b: Business\n",
    "        - t: Science and Technology\n",
    "        - e: Entertainment\n",
    "        - m: Health\n",
    "'''\n",
    "news_df['CATEGORY'] = news_df['CATEGORY'].map({ 'b': 1, 't': 2, 'e': 3, 'm': 4 })\n",
    "news_df['TITLE'] = news_df['TITLE'].map(lambda x: x.lower())"
   ]
  },
  {
   "cell_type": "code",
   "execution_count": 4,
   "metadata": {
    "_cell_guid": "22aec467-0f7f-4845-9f73-dcce1b73337e",
    "_execution_state": "idle",
    "_uuid": "6802b7cf576ee4bc3f501f3aaac41aa9478710c4",
    "collapsed": false
   },
   "outputs": [],
   "source": [
    "'''\n",
    "    * Splitting dataset.\n",
    "'''\n",
    "X = news_df['TITLE']\n",
    "y = news_df['CATEGORY']\n",
    "X_train, X_test, y_train, y_test = train_test_split(X, y, random_state=13)"
   ]
  },
  {
   "cell_type": "code",
   "execution_count": 5,
   "metadata": {
    "_cell_guid": "e3ee8441-6204-41c3-a968-00baf7323ac5",
    "_execution_state": "idle",
    "_uuid": "9aa3f3c203d2b320fe9ef68d278b4969ee9b0b05",
    "collapsed": false
   },
   "outputs": [],
   "source": [
    "'''\n",
    "    * Applying bag-of-words to the observations.\n",
    "'''\n",
    "countVect = sktext.CountVectorizer(stop_words='english')\n",
    "X_train_vectorized = countVect.fit_transform(X_train)\n",
    "testing_data  = countVect.transform(X_test)"
   ]
  },
  {
   "cell_type": "code",
   "execution_count": 6,
   "metadata": {
    "_cell_guid": "ef2e2e77-9e9a-4bcc-abbf-326475a0f481",
    "_execution_state": "idle",
    "_uuid": "9ec6f82880d2e5b38f7034c0ddabca4e9116d0f0",
    "collapsed": false
   },
   "outputs": [
    {
     "data": {
      "text/plain": [
       "MultinomialNB(alpha=1.0, class_prior=None, fit_prior=True)"
      ]
     },
     "execution_count": 6,
     "metadata": {},
     "output_type": "execute_result"
    }
   ],
   "source": [
    "'''\n",
    "    * Traing...\n",
    "'''\n",
    "naive_bayes = MultinomialNB()\n",
    "naive_bayes.fit(X_train_vectorized, y_train)"
   ]
  },
  {
   "cell_type": "code",
   "execution_count": 9,
   "metadata": {
    "_cell_guid": "61acbf7e-8f22-4fd9-9106-859c7be0087e",
    "_execution_state": "idle",
    "_uuid": "8f07542e838f7ea53b8c5f891dbb83776a44e635",
    "collapsed": false
   },
   "outputs": [
    {
     "name": "stdout",
     "output_type": "stream",
     "text": [
      "Accuracy :  0.9307229771317646\n",
      "Recall :  0.9307229771317646\n",
      "Precision :  0.9308031753969921\n",
      "F1 :  0.9307544522684279\n"
     ]
    }
   ],
   "source": [
    "'''\n",
    "    * Evaluation\n",
    "'''\n",
    "predictions = naive_bayes.predict(testing_data)\n",
    "\n",
    "print(\"Accuracy : \", matrics.accuracy_score(y_test, predictions))\n",
    "print(\"Recall : \", matrics.recall_score(y_test, predictions, average = 'weighted'))\n",
    "print(\"Precision : \", matrics.precision_score(y_test, predictions, average = 'weighted'))\n",
    "print(\"F1 : \", matrics.f1_score(y_test, predictions, average = 'weighted'))"
   ]
  },
  {
   "cell_type": "code",
   "execution_count": 8,
   "metadata": {},
   "outputs": [
    {
     "data": {
      "text/plain": [
       "<matplotlib.axes._subplots.AxesSubplot at 0x116c80be0>"
      ]
     },
     "execution_count": 8,
     "metadata": {},
     "output_type": "execute_result"
    },
    {
     "data": {
      "image/png": "[encoded data removed]",
      "text/plain": [
       "<Figure size 432x288 with 2 Axes>"
      ]
     },
     "metadata": {},
     "output_type": "display_data"
    }
   ],
   "source": [
    "confusion_mat = matrics.confusion_matrix(y_test, predictions)\n",
    "lables = ['Business', 'ScienceTechno', 'Entertainment', 'Health']\n",
    "sns.heatmap(confusion_mat, xticklabels=lables, yticklabels=lables)"
   ]
  }
 ],
 "metadata": {
  "kernelspec": {
   "display_name": "Python 3",
   "language": "python",
   "name": "python3"
  },
  "language_info": {
   "codemirror_mode": {
    "name": "ipython",
    "version": 3
   },
   "file_extension": ".py",
   "mimetype": "text/x-python",
   "name": "python",
   "nbconvert_exporter": "python",
   "pygments_lexer": "ipython3",
   "version": "3.6.5"
  }
 },
 "nbformat": 4,
 "nbformat_minor": 2
}
