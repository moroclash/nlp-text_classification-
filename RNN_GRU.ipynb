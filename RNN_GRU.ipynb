{
 "cells": [
  {
   "cell_type": "code",
   "execution_count": 1,
   "metadata": {},
   "outputs": [
    {
     "name": "stderr",
     "output_type": "stream",
     "text": [
      "/usr/local/lib/python3.5/dist-packages/h5py/__init__.py:36: FutureWarning: Conversion of the second argument of issubdtype from `float` to `np.floating` is deprecated. In future, it will be treated as `np.float64 == np.dtype(float).type`.\n",
      "  from ._conv import register_converters as _register_converters\n",
      "Using TensorFlow backend.\n"
     ]
    }
   ],
   "source": [
    "import os\n",
    "\n",
    "os.environ[\"CUDA_DEVICE_ORDER\"] = \"PCI_BUS_ID\"\n",
    "os.environ[\"CUDA_VISIBLE_DEVICES\"] = \"\"\n",
    "    \n",
    "import pandas as pd\n",
    "import keras as k\n",
    "import numpy as np\n",
    "import string\n",
    "from sklearn.model_selection import train_test_split\n",
    "import re\n",
    "import math\n",
    "import sklearn.metrics as matrics\n",
    "import seaborn as sns\n",
    "import matplotlib.pyplot as plt\n",
    "%matplotlib inline"
   ]
  },
  {
   "cell_type": "code",
   "execution_count": 2,
   "metadata": {},
   "outputs": [],
   "source": [
    "def title_one_hot(title,maxlen):\n",
    "    \n",
    "    def one(num,length):\n",
    "        vec = np.zeros(length)\n",
    "        vec[num] = 1\n",
    "        return vec\n",
    "    \n",
    "    alphabet1=list(string.ascii_lowercase)+[' ', '\\'' ,','] #Add space and apostrophe to our alphabets\n",
    "    alphabet = dict((c, i) for i, c in enumerate(alphabet1))\n",
    "    alphabet_ = dict((i, c) for i, c in enumerate(alphabet1))\n",
    "    d = maxlen - len(title)\n",
    "    title = title + \" \"*d\n",
    "    data = [one(alphabet[char],len(alphabet1)) for char in title]\n",
    "    return np.asarray(data)\n",
    "\n",
    "        \n",
    "def class_one_hot(class_,list_unique_of_classes):\n",
    "    one_hot_vec = np.zeros([len(list_unique_of_classes)])\n",
    "    one_hot_vec[list_unique_of_classes.index(class_)] = 1\n",
    "    return one_hot_vec\n",
    "\n",
    "\n",
    "\n",
    "def from_one_hot_to_char(arr): \n",
    "    a = []\n",
    "    alphabet1=list(string.ascii_lowercase)+[' ', '\\'' , ','] #Add space and apostrophe to our alphabets\n",
    "    alphabet = dict((c, i) for i, c in enumerate(alphabet1))\n",
    "    alphabet_ = dict((i, c) for i, c in enumerate(alphabet1))\n",
    "    for ii in arr:\n",
    "        a.append([alphabet_[i] for i,l in enumerate(ii) if int(l)==1][0])\n",
    "    return \"\".join(a)\n",
    "\n",
    "def from_one_hot_class_to_str(matrix,list_unique_classes):\n",
    "    class_dic = dict((class_, i) for i, class_ in enumerate(list_unique_classes))\n",
    "    for i,n in enumerate(matrix):\n",
    "        if n == 1:\n",
    "            return list(class_dic.keys())[list(class_dic.values())[i]]\n",
    "        \n",
    "def clean_data(x):\n",
    "    alphabet1=list(string.ascii_lowercase)+[' ', '\\'' ,'\\,']\n",
    "    x = re.sub('[^'+\"\".join(alphabet1)+']', ' ', x).lower()\n",
    "    x = re.sub('  +', ' ', x)\n",
    "    return x.lstrip()"
   ]
  },
  {
   "cell_type": "markdown",
   "metadata": {},
   "source": [
    "# Read Data"
   ]
  },
  {
   "cell_type": "code",
   "execution_count": 3,
   "metadata": {},
   "outputs": [],
   "source": [
    "data = pd.read_csv('uci-news-aggregator.csv')"
   ]
  },
  {
   "cell_type": "code",
   "execution_count": 4,
   "metadata": {},
   "outputs": [],
   "source": [
    "filterd_data = pd.DataFrame(data={\"title\":data.TITLE ,\"category\":data.CATEGORY})\n",
    "#clean data from very large titles\n",
    "filterd_data.drop(filterd_data[filterd_data.title.apply(len) >100].index,inplace=True)\n",
    "filterd_data.title = filterd_data.title.apply(clean_data)\n",
    "filterd_data.category = filterd_data.category.apply(clean_data)\n",
    "data = None"
   ]
  },
  {
   "cell_type": "code",
   "execution_count": 5,
   "metadata": {},
   "outputs": [
    {
     "data": {
      "text/html": [
       "<div>\n",
       "<style scoped>\n",
       "    .dataframe tbody tr th:only-of-type {\n",
       "        vertical-align: middle;\n",
       "    }\n",
       "\n",
       "    .dataframe tbody tr th {\n",
       "        vertical-align: top;\n",
       "    }\n",
       "\n",
       "    .dataframe thead th {\n",
       "        text-align: right;\n",
       "    }\n",
       "</style>\n",
       "<table border=\"1\" class=\"dataframe\">\n",
       "  <thead>\n",
       "    <tr style=\"text-align: right;\">\n",
       "      <th></th>\n",
       "      <th>category</th>\n",
       "      <th>title</th>\n",
       "    </tr>\n",
       "  </thead>\n",
       "  <tbody>\n",
       "    <tr>\n",
       "      <th>0</th>\n",
       "      <td>b</td>\n",
       "      <td>ed official says weak data caused by weather, ...</td>\n",
       "    </tr>\n",
       "    <tr>\n",
       "      <th>1</th>\n",
       "      <td>b</td>\n",
       "      <td>ed's harles losser sees high bar for change in...</td>\n",
       "    </tr>\n",
       "  </tbody>\n",
       "</table>\n",
       "</div>"
      ],
      "text/plain": [
       "  category                                              title\n",
       "0        b  ed official says weak data caused by weather, ...\n",
       "1        b  ed's harles losser sees high bar for change in..."
      ]
     },
     "execution_count": 5,
     "metadata": {},
     "output_type": "execute_result"
    }
   ],
   "source": [
    "filterd_data.head(2)"
   ]
  },
  {
   "cell_type": "code",
   "execution_count": 6,
   "metadata": {},
   "outputs": [
    {
     "data": {
      "text/plain": [
       "e    152462\n",
       "b    115967\n",
       "t    108342\n",
       "m     45639\n",
       "Name: category, dtype: int64"
      ]
     },
     "execution_count": 6,
     "metadata": {},
     "output_type": "execute_result"
    }
   ],
   "source": [
    "unique_classes = list(filterd_data.category.unique())\n",
    "filterd_data.category.value_counts()"
   ]
  },
  {
   "cell_type": "code",
   "execution_count": 7,
   "metadata": {},
   "outputs": [
    {
     "data": {
      "text/plain": [
       "89"
      ]
     },
     "execution_count": 7,
     "metadata": {},
     "output_type": "execute_result"
    }
   ],
   "source": [
    "max_len_of_title = filterd_data.title.apply(len).max()\n",
    "max_len_of_title"
   ]
  },
  {
   "cell_type": "markdown",
   "metadata": {},
   "source": [
    "# Start training"
   ]
  },
  {
   "cell_type": "code",
   "execution_count": 8,
   "metadata": {},
   "outputs": [],
   "source": [
    "X , Y = filterd_data.title , filterd_data.category\n",
    "# x , x_rest , y , y_rest = train_test_split(X, Y, test_size=0.95, random_state=42)\n",
    "x_train, x_test, y_train, y_test = train_test_split(X,\n",
    "                                                    Y,\n",
    "                                                    test_size=0.2,\n",
    "                                                    random_state=0)\n",
    "\n",
    "x_train, x_val, y_train, y_val = train_test_split(x_train,\n",
    "                                                  y_train,\n",
    "                                                  test_size=0.2,\n",
    "                                                  random_state=0)"
   ]
  },
  {
   "cell_type": "markdown",
   "metadata": {},
   "source": [
    "# encoding"
   ]
  },
  {
   "cell_type": "code",
   "execution_count": 9,
   "metadata": {},
   "outputs": [],
   "source": [
    "#===========================================================================\n",
    "def title_encode(x,max_len_of_title):\n",
    "    x = title_one_hot(x,max_len_of_title)\n",
    "    return x.flatten()\n",
    "\n",
    "# x_train = x.apply(lambda x : title_encode(x,max_len_of_title))\n",
    "# x_train = np.stack(x_train,axis=0)\n",
    "# y_train = y.apply(lambda x : class_one_hot(x,unique_classes))\n",
    "# y_train = np.stack(y_train,axis=0)\n",
    "#===========================================================================\n",
    "\n",
    "#================================work with batches=============================\n",
    "class generate_one_batch:\n",
    "    def __init__(self,batch_size,dataset):\n",
    "        self.batch_size = batch_size\n",
    "        self.dataset = dataset\n",
    "        self.start = 0\n",
    "\n",
    "    def get_batch(self):\n",
    "        end = self.start+self.batch_size \n",
    "        diff = end - len(self.dataset)\n",
    "        if diff > 0 :\n",
    "            if diff < self.batch_size :\n",
    "                end = len(self.dataset)\n",
    "            else:\n",
    "                self.start = 0\n",
    "                end = self.batch_size\n",
    "        returned_batch = self.dataset[self.start:end]\n",
    "        self.start +=  self.batch_size\n",
    "        return returned_batch \n",
    "\n",
    "\n",
    "\n",
    "def data_generator(title_generator,\n",
    "                   categorical_generator,\n",
    "                   title_vectorize_fun,\n",
    "                   categorical_vectorize_fun,\n",
    "                   list_of_unique_classes,\n",
    "                   max_title_len):\n",
    "    while True:\n",
    "        x = title_generator.get_batch()\n",
    "        x = x.apply(lambda x : title_vectorize_fun(x , max_title_len))\n",
    "        x = np.stack(x,axis=0)\n",
    "        y = categorical_generator.get_batch()\n",
    "        y = y.apply(lambda x : categorical_vectorize_fun(x,list_of_unique_classes))\n",
    "        y = np.stack(y,axis=0)\n",
    "        yield (x, y)\n",
    "            \n",
    "#===========================================================================\n",
    "\n",
    "batch_size = 2048\n",
    "epoch_num = 50\n",
    "saving_path = 'result/'\n",
    "experiment_name = \"experiment_RNN_GRU1\"\n",
    "# 0 => nn | 1=> rnn(lstm) | 2 => rnn(GRU)\n",
    "nn_or_rnn = 2\n",
    "\n",
    "\n",
    "\n",
    "checkpoint_path_ = saving_path+experiment_name+\"/checkpoints/\"\n",
    "experiment_path = saving_path+experiment_name+\"/\"\n",
    "result_path = saving_path+experiment_name+\"/result/\"\n",
    "try:\n",
    "    os.makedirs(checkpoint_path_)\n",
    "    os.makedirs(result_path)\n",
    "except OSError as e:\n",
    "    print(\"Can't create file\")\n",
    "    \n",
    "checkpoint_path = checkpoint_path_ + \"experiment-improvement-{epoch:02d}-{val_acc:.2f}.hdf5\"\n",
    "# ===========================================================================\n",
    "title_batch_generator = generate_one_batch(batch_size=batch_size, dataset=x_train)\n",
    "category_encoded_batch_generator = generate_one_batch(batch_size=batch_size, dataset=y_train)\n",
    "steps_per_epoch = math.ceil(len(x_train) / batch_size)\n",
    "\n",
    "title_batch_generator_val = generate_one_batch(batch_size=batch_size, dataset=x_val)\n",
    "category_encoded_batch_generator_val = generate_one_batch(batch_size=batch_size, dataset=y_val)\n",
    "validation_steps = math.ceil(len(x_val) / batch_size)\n",
    "# ==========================================================================="
   ]
  },
  {
   "cell_type": "markdown",
   "metadata": {},
   "source": [
    "# build NN"
   ]
  },
  {
   "cell_type": "code",
   "execution_count": 10,
   "metadata": {},
   "outputs": [],
   "source": [
    "if nn_or_rnn==0:\n",
    "    title_vectorize_fun = title_encode\n",
    "    categorical_vectorize_fun = class_one_hot\n",
    "    encode_of_one_title = title_vectorize_fun(x_train.iloc[0],max_len_of_title)\n",
    "\n",
    "    model = k.models.Sequential()\n",
    "    model.add(k.layers.Dense(40,input_shape=(encode_of_one_title.shape[0],),activation ='relu'))\n",
    "    model.add(k.layers.Dense(40,activation ='relu'))\n",
    "elif nn_or_rnn==1:\n",
    "    title_vectorize_fun = title_one_hot\n",
    "    categorical_vectorize_fun = class_one_hot\n",
    "    encode_of_one_title = title_vectorize_fun(x_train.iloc[0],max_len_of_title)\n",
    "    \n",
    "    model = k.models.Sequential()\n",
    "    model.add(k.layers.LSTM(40,return_sequences=True,input_shape=(max_len_of_title,encode_of_one_title.shape[1])))\n",
    "    model.add(k.layers.LSTM(40))\n",
    "else:\n",
    "    title_vectorize_fun = title_one_hot\n",
    "    categorical_vectorize_fun = class_one_hot\n",
    "    encode_of_one_title = title_vectorize_fun(x_train.iloc[0],max_len_of_title)\n",
    "    \n",
    "    model = k.models.Sequential()\n",
    "    model.add(k.layers.GRU(40,return_sequences=True,input_shape=(max_len_of_title,encode_of_one_title.shape[1])))\n",
    "    model.add(k.layers.GRU(40))\n",
    "    \n",
    "model.add(k.layers.Dense(units = len(unique_classes),activation = 'softmax'))          \n",
    "model.compile(loss='categorical_crossentropy', optimizer='adam',metrics = ['accuracy'])"
   ]
  },
  {
   "cell_type": "markdown",
   "metadata": {},
   "source": [
    "# check points"
   ]
  },
  {
   "cell_type": "code",
   "execution_count": 11,
   "metadata": {},
   "outputs": [
    {
     "name": "stdout",
     "output_type": "stream",
     "text": [
      "WARNING:tensorflow:From /usr/local/lib/python3.5/dist-packages/tensorflow/contrib/learn/python/learn/datasets/base.py:198: retry (from tensorflow.contrib.learn.python.learn.datasets.base) is deprecated and will be removed in a future version.\n",
      "Instructions for updating:\n",
      "Use the retry module or similar alternatives.\n"
     ]
    }
   ],
   "source": [
    "checkpoint = k.callbacks.ModelCheckpoint(checkpoint_path,\n",
    "                             monitor='val_acc',\n",
    "                             verbose=1,\n",
    "                             save_best_only=True,\n",
    "                             mode='max')\n",
    "\n",
    "# ===========================tensorboard=====================================\n",
    "tensorboard = k.callbacks.TensorBoard(log_dir=result_path,\n",
    "                                          histogram_freq=0,\n",
    "                                          batch_size=batch_size,\n",
    "                                          write_graph=True,\n",
    "                                          write_grads=True,\n",
    "                                          write_images=True,\n",
    "                                          embeddings_freq=0,\n",
    "                                          embeddings_layer_names=None,\n",
    "                                          embeddings_metadata=None)\n",
    "\n",
    "callbacks = [checkpoint , tensorboard]"
   ]
  },
  {
   "cell_type": "markdown",
   "metadata": {},
   "source": [
    "# Fit Model"
   ]
  },
  {
   "cell_type": "code",
   "execution_count": 12,
   "metadata": {},
   "outputs": [
    {
     "name": "stdout",
     "output_type": "stream",
     "text": [
      "Epoch 1/50\n",
      "133/133 [==============================] - 163s 1s/step - loss: 1.3131 - acc: 0.3595 - val_loss: 1.3141 - val_acc: 0.3608\n",
      "\n",
      "Epoch 00001: val_acc improved from -inf to 0.36077, saving model to result/experiment_RNN_GRU1/checkpoints/experiment-improvement-01-0.36.hdf5\n",
      "Epoch 2/50\n",
      "133/133 [==============================] - 161s 1s/step - loss: 1.3115 - acc: 0.3604 - val_loss: 1.3139 - val_acc: 0.3608\n",
      "\n",
      "Epoch 00002: val_acc improved from 0.36077 to 0.36078, saving model to result/experiment_RNN_GRU1/checkpoints/experiment-improvement-02-0.36.hdf5\n",
      "Epoch 3/50\n",
      "133/133 [==============================] - 161s 1s/step - loss: 1.2949 - acc: 0.3780 - val_loss: 1.2257 - val_acc: 0.4316\n",
      "\n",
      "Epoch 00003: val_acc improved from 0.36078 to 0.43157, saving model to result/experiment_RNN_GRU1/checkpoints/experiment-improvement-03-0.43.hdf5\n",
      "Epoch 4/50\n",
      "133/133 [==============================] - 161s 1s/step - loss: 1.1843 - acc: 0.4647 - val_loss: 1.2002 - val_acc: 0.4520\n",
      "\n",
      "Epoch 00004: val_acc improved from 0.43157 to 0.45200, saving model to result/experiment_RNN_GRU1/checkpoints/experiment-improvement-04-0.45.hdf5\n",
      "Epoch 5/50\n",
      "133/133 [==============================] - 164s 1s/step - loss: 1.1369 - acc: 0.5002 - val_loss: 1.1389 - val_acc: 0.5045\n",
      "\n",
      "Epoch 00005: val_acc improved from 0.45200 to 0.50453, saving model to result/experiment_RNN_GRU1/checkpoints/experiment-improvement-05-0.50.hdf5\n",
      "Epoch 6/50\n",
      "133/133 [==============================] - 164s 1s/step - loss: 1.0666 - acc: 0.5513 - val_loss: 1.0816 - val_acc: 0.5443\n",
      "\n",
      "Epoch 00006: val_acc improved from 0.50453 to 0.54434, saving model to result/experiment_RNN_GRU1/checkpoints/experiment-improvement-06-0.54.hdf5\n",
      "Epoch 7/50\n",
      "133/133 [==============================] - 163s 1s/step - loss: 1.0089 - acc: 0.5848 - val_loss: 1.0312 - val_acc: 0.5721\n",
      "\n",
      "Epoch 00007: val_acc improved from 0.54434 to 0.57207, saving model to result/experiment_RNN_GRU1/checkpoints/experiment-improvement-07-0.57.hdf5\n",
      "Epoch 8/50\n",
      "133/133 [==============================] - 161s 1s/step - loss: 0.9611 - acc: 0.6092 - val_loss: 1.0093 - val_acc: 0.5865\n",
      "\n",
      "Epoch 00008: val_acc improved from 0.57207 to 0.58653, saving model to result/experiment_RNN_GRU1/checkpoints/experiment-improvement-08-0.59.hdf5\n",
      "Epoch 9/50\n",
      "133/133 [==============================] - 161s 1s/step - loss: 0.9219 - acc: 0.6276 - val_loss: 0.9785 - val_acc: 0.6028\n",
      "\n",
      "Epoch 00009: val_acc improved from 0.58653 to 0.60276, saving model to result/experiment_RNN_GRU1/checkpoints/experiment-improvement-09-0.60.hdf5\n",
      "Epoch 10/50\n",
      "133/133 [==============================] - 162s 1s/step - loss: 0.8882 - acc: 0.6447 - val_loss: 0.9475 - val_acc: 0.6197\n",
      "\n",
      "Epoch 00010: val_acc improved from 0.60276 to 0.61967, saving model to result/experiment_RNN_GRU1/checkpoints/experiment-improvement-10-0.62.hdf5\n",
      "Epoch 11/50\n",
      "133/133 [==============================] - 159s 1s/step - loss: 0.8587 - acc: 0.6590 - val_loss: 0.9134 - val_acc: 0.6359\n",
      "\n",
      "Epoch 00011: val_acc improved from 0.61967 to 0.63589, saving model to result/experiment_RNN_GRU1/checkpoints/experiment-improvement-11-0.64.hdf5\n",
      "Epoch 12/50\n",
      "133/133 [==============================] - 160s 1s/step - loss: 0.8298 - acc: 0.6736 - val_loss: 0.8858 - val_acc: 0.6505\n",
      "\n",
      "Epoch 00012: val_acc improved from 0.63589 to 0.65055, saving model to result/experiment_RNN_GRU1/checkpoints/experiment-improvement-12-0.65.hdf5\n",
      "Epoch 13/50\n",
      "133/133 [==============================] - 162s 1s/step - loss: 0.8030 - acc: 0.6871 - val_loss: 0.8487 - val_acc: 0.6671\n",
      "\n",
      "Epoch 00013: val_acc improved from 0.65055 to 0.66706, saving model to result/experiment_RNN_GRU1/checkpoints/experiment-improvement-13-0.67.hdf5\n",
      "Epoch 14/50\n",
      "133/133 [==============================] - 160s 1s/step - loss: 0.7781 - acc: 0.6984 - val_loss: 0.8208 - val_acc: 0.6795\n",
      "\n",
      "Epoch 00014: val_acc improved from 0.66706 to 0.67952, saving model to result/experiment_RNN_GRU1/checkpoints/experiment-improvement-14-0.68.hdf5\n",
      "Epoch 15/50\n",
      "133/133 [==============================] - 161s 1s/step - loss: 0.7562 - acc: 0.7082 - val_loss: 0.7999 - val_acc: 0.6895\n",
      "\n",
      "Epoch 00015: val_acc improved from 0.67952 to 0.68954, saving model to result/experiment_RNN_GRU1/checkpoints/experiment-improvement-15-0.69.hdf5\n",
      "Epoch 16/50\n",
      "133/133 [==============================] - 161s 1s/step - loss: 0.7368 - acc: 0.7168 - val_loss: 0.7774 - val_acc: 0.6994\n",
      "\n",
      "Epoch 00016: val_acc improved from 0.68954 to 0.69938, saving model to result/experiment_RNN_GRU1/checkpoints/experiment-improvement-16-0.70.hdf5\n",
      "Epoch 17/50\n",
      "133/133 [==============================] - 162s 1s/step - loss: 0.7189 - acc: 0.7252 - val_loss: 0.7541 - val_acc: 0.7102\n",
      "\n",
      "Epoch 00017: val_acc improved from 0.69938 to 0.71016, saving model to result/experiment_RNN_GRU1/checkpoints/experiment-improvement-17-0.71.hdf5\n",
      "Epoch 18/50\n",
      "133/133 [==============================] - 162s 1s/step - loss: 0.7025 - acc: 0.7319 - val_loss: 0.7325 - val_acc: 0.7206\n",
      "\n",
      "Epoch 00018: val_acc improved from 0.71016 to 0.72059, saving model to result/experiment_RNN_GRU1/checkpoints/experiment-improvement-18-0.72.hdf5\n",
      "Epoch 19/50\n",
      "133/133 [==============================] - 163s 1s/step - loss: 0.6874 - acc: 0.7385 - val_loss: 0.7124 - val_acc: 0.7292\n",
      "\n",
      "Epoch 00019: val_acc improved from 0.72059 to 0.72919, saving model to result/experiment_RNN_GRU1/checkpoints/experiment-improvement-19-0.73.hdf5\n",
      "Epoch 20/50\n",
      "133/133 [==============================] - 163s 1s/step - loss: 0.6732 - acc: 0.7447 - val_loss: 0.6963 - val_acc: 0.7353\n",
      "\n",
      "Epoch 00020: val_acc improved from 0.72919 to 0.73526, saving model to result/experiment_RNN_GRU1/checkpoints/experiment-improvement-20-0.74.hdf5\n",
      "Epoch 21/50\n",
      "133/133 [==============================] - 161s 1s/step - loss: 0.6600 - acc: 0.7508 - val_loss: 0.6813 - val_acc: 0.7423\n",
      "\n",
      "Epoch 00021: val_acc improved from 0.73526 to 0.74228, saving model to result/experiment_RNN_GRU1/checkpoints/experiment-improvement-21-0.74.hdf5\n",
      "Epoch 22/50\n",
      "133/133 [==============================] - 163s 1s/step - loss: 0.6475 - acc: 0.7563 - val_loss: 0.6678 - val_acc: 0.7482\n",
      "\n",
      "Epoch 00022: val_acc improved from 0.74228 to 0.74822, saving model to result/experiment_RNN_GRU1/checkpoints/experiment-improvement-22-0.75.hdf5\n",
      "Epoch 23/50\n",
      "133/133 [==============================] - 163s 1s/step - loss: 0.6358 - acc: 0.7611 - val_loss: 0.6553 - val_acc: 0.7534\n",
      "\n",
      "Epoch 00023: val_acc improved from 0.74822 to 0.75338, saving model to result/experiment_RNN_GRU1/checkpoints/experiment-improvement-23-0.75.hdf5\n",
      "Epoch 24/50\n",
      "133/133 [==============================] - 163s 1s/step - loss: 0.6249 - acc: 0.7657 - val_loss: 0.6432 - val_acc: 0.7578\n",
      "\n",
      "Epoch 00024: val_acc improved from 0.75338 to 0.75779, saving model to result/experiment_RNN_GRU1/checkpoints/experiment-improvement-24-0.76.hdf5\n",
      "Epoch 25/50\n",
      "133/133 [==============================] - 163s 1s/step - loss: 0.6146 - acc: 0.7700 - val_loss: 0.6323 - val_acc: 0.7624\n",
      "\n",
      "Epoch 00025: val_acc improved from 0.75779 to 0.76238, saving model to result/experiment_RNN_GRU1/checkpoints/experiment-improvement-25-0.76.hdf5\n",
      "Epoch 26/50\n",
      "133/133 [==============================] - 162s 1s/step - loss: 0.6051 - acc: 0.7740 - val_loss: 0.6203 - val_acc: 0.7672\n",
      "\n",
      "Epoch 00026: val_acc improved from 0.76238 to 0.76717, saving model to result/experiment_RNN_GRU1/checkpoints/experiment-improvement-26-0.77.hdf5\n",
      "Epoch 27/50\n",
      "133/133 [==============================] - 162s 1s/step - loss: 0.5960 - acc: 0.7781 - val_loss: 0.6093 - val_acc: 0.7718\n",
      "\n",
      "Epoch 00027: val_acc improved from 0.76717 to 0.77177, saving model to result/experiment_RNN_GRU1/checkpoints/experiment-improvement-27-0.77.hdf5\n",
      "Epoch 28/50\n",
      "133/133 [==============================] - 156s 1s/step - loss: 0.5873 - acc: 0.7818 - val_loss: 0.6001 - val_acc: 0.7758\n",
      "\n",
      "Epoch 00028: val_acc improved from 0.77177 to 0.77578, saving model to result/experiment_RNN_GRU1/checkpoints/experiment-improvement-28-0.78.hdf5\n",
      "Epoch 29/50\n",
      "133/133 [==============================] - 155s 1s/step - loss: 0.5790 - acc: 0.7853 - val_loss: 0.5920 - val_acc: 0.7797\n",
      "\n",
      "Epoch 00029: val_acc improved from 0.77578 to 0.77973, saving model to result/experiment_RNN_GRU1/checkpoints/experiment-improvement-29-0.78.hdf5\n",
      "Epoch 30/50\n"
     ]
    },
    {
     "name": "stdout",
     "output_type": "stream",
     "text": [
      "133/133 [==============================] - 173s 1s/step - loss: 0.5713 - acc: 0.7885 - val_loss: 0.5844 - val_acc: 0.7832\n",
      "\n",
      "Epoch 00030: val_acc improved from 0.77973 to 0.78317, saving model to result/experiment_RNN_GRU1/checkpoints/experiment-improvement-30-0.78.hdf5\n",
      "Epoch 31/50\n",
      "133/133 [==============================] - 177s 1s/step - loss: 0.5639 - acc: 0.7915 - val_loss: 0.5770 - val_acc: 0.7866\n",
      "\n",
      "Epoch 00031: val_acc improved from 0.78317 to 0.78661, saving model to result/experiment_RNN_GRU1/checkpoints/experiment-improvement-31-0.79.hdf5\n",
      "Epoch 32/50\n",
      "133/133 [==============================] - 166s 1s/step - loss: 0.5567 - acc: 0.7947 - val_loss: 0.5697 - val_acc: 0.7894\n",
      "\n",
      "Epoch 00032: val_acc improved from 0.78661 to 0.78941, saving model to result/experiment_RNN_GRU1/checkpoints/experiment-improvement-32-0.79.hdf5\n",
      "Epoch 33/50\n",
      "133/133 [==============================] - 154s 1s/step - loss: 0.5498 - acc: 0.7977 - val_loss: 0.5624 - val_acc: 0.7922\n",
      "\n",
      "Epoch 00033: val_acc improved from 0.78941 to 0.79225, saving model to result/experiment_RNN_GRU1/checkpoints/experiment-improvement-33-0.79.hdf5\n",
      "Epoch 34/50\n",
      "133/133 [==============================] - 167s 1s/step - loss: 0.5433 - acc: 0.8004 - val_loss: 0.5553 - val_acc: 0.7946\n",
      "\n",
      "Epoch 00034: val_acc improved from 0.79225 to 0.79459, saving model to result/experiment_RNN_GRU1/checkpoints/experiment-improvement-34-0.79.hdf5\n",
      "Epoch 35/50\n",
      "133/133 [==============================] - 175s 1s/step - loss: 0.5370 - acc: 0.8029 - val_loss: 0.5485 - val_acc: 0.7971\n",
      "\n",
      "Epoch 00035: val_acc improved from 0.79459 to 0.79706, saving model to result/experiment_RNN_GRU1/checkpoints/experiment-improvement-35-0.80.hdf5\n",
      "Epoch 36/50\n",
      "133/133 [==============================] - 176s 1s/step - loss: 0.5310 - acc: 0.8051 - val_loss: 0.5435 - val_acc: 0.7998\n",
      "\n",
      "Epoch 00036: val_acc improved from 0.79706 to 0.79980, saving model to result/experiment_RNN_GRU1/checkpoints/experiment-improvement-36-0.80.hdf5\n",
      "Epoch 37/50\n",
      "133/133 [==============================] - 174s 1s/step - loss: 0.5253 - acc: 0.8075 - val_loss: 0.5389 - val_acc: 0.8014\n",
      "\n",
      "Epoch 00037: val_acc improved from 0.79980 to 0.80142, saving model to result/experiment_RNN_GRU1/checkpoints/experiment-improvement-37-0.80.hdf5\n",
      "Epoch 38/50\n",
      "133/133 [==============================] - 179s 1s/step - loss: 0.5199 - acc: 0.8096 - val_loss: 0.5339 - val_acc: 0.8037\n",
      "\n",
      "Epoch 00038: val_acc improved from 0.80142 to 0.80372, saving model to result/experiment_RNN_GRU1/checkpoints/experiment-improvement-38-0.80.hdf5\n",
      "Epoch 39/50\n",
      "133/133 [==============================] - 179s 1s/step - loss: 0.5147 - acc: 0.8119 - val_loss: 0.5309 - val_acc: 0.8051\n",
      "\n",
      "Epoch 00039: val_acc improved from 0.80372 to 0.80514, saving model to result/experiment_RNN_GRU1/checkpoints/experiment-improvement-39-0.81.hdf5\n",
      "Epoch 40/50\n",
      "133/133 [==============================] - 177s 1s/step - loss: 0.5099 - acc: 0.8136 - val_loss: 0.5294 - val_acc: 0.8063\n",
      "\n",
      "Epoch 00040: val_acc improved from 0.80514 to 0.80634, saving model to result/experiment_RNN_GRU1/checkpoints/experiment-improvement-40-0.81.hdf5\n",
      "Epoch 41/50\n",
      "133/133 [==============================] - 178s 1s/step - loss: 0.5053 - acc: 0.8156 - val_loss: 0.5251 - val_acc: 0.8078\n",
      "\n",
      "Epoch 00041: val_acc improved from 0.80634 to 0.80776, saving model to result/experiment_RNN_GRU1/checkpoints/experiment-improvement-41-0.81.hdf5\n",
      "Epoch 42/50\n",
      "133/133 [==============================] - 177s 1s/step - loss: 0.5004 - acc: 0.8177 - val_loss: 0.5207 - val_acc: 0.8095\n",
      "\n",
      "Epoch 00042: val_acc improved from 0.80776 to 0.80947, saving model to result/experiment_RNN_GRU1/checkpoints/experiment-improvement-42-0.81.hdf5\n",
      "Epoch 43/50\n",
      "133/133 [==============================] - 177s 1s/step - loss: 0.4955 - acc: 0.8198 - val_loss: 0.5153 - val_acc: 0.8120\n",
      "\n",
      "Epoch 00043: val_acc improved from 0.80947 to 0.81200, saving model to result/experiment_RNN_GRU1/checkpoints/experiment-improvement-43-0.81.hdf5\n",
      "Epoch 44/50\n",
      "133/133 [==============================] - 174s 1s/step - loss: 0.4907 - acc: 0.8217 - val_loss: 0.5098 - val_acc: 0.8139\n",
      "\n",
      "Epoch 00044: val_acc improved from 0.81200 to 0.81387, saving model to result/experiment_RNN_GRU1/checkpoints/experiment-improvement-44-0.81.hdf5\n",
      "Epoch 45/50\n",
      "133/133 [==============================] - 171s 1s/step - loss: 0.4862 - acc: 0.8237 - val_loss: 0.5052 - val_acc: 0.8155\n",
      "\n",
      "Epoch 00045: val_acc improved from 0.81387 to 0.81552, saving model to result/experiment_RNN_GRU1/checkpoints/experiment-improvement-45-0.82.hdf5\n",
      "Epoch 46/50\n",
      "133/133 [==============================] - 174s 1s/step - loss: 0.4820 - acc: 0.8255 - val_loss: 0.5016 - val_acc: 0.8172\n",
      "\n",
      "Epoch 00046: val_acc improved from 0.81552 to 0.81720, saving model to result/experiment_RNN_GRU1/checkpoints/experiment-improvement-46-0.82.hdf5\n",
      "Epoch 47/50\n",
      "133/133 [==============================] - 174s 1s/step - loss: 0.4779 - acc: 0.8272 - val_loss: 0.4977 - val_acc: 0.8190\n",
      "\n",
      "Epoch 00047: val_acc improved from 0.81720 to 0.81897, saving model to result/experiment_RNN_GRU1/checkpoints/experiment-improvement-47-0.82.hdf5\n",
      "Epoch 48/50\n",
      "133/133 [==============================] - 174s 1s/step - loss: 0.4737 - acc: 0.8288 - val_loss: 0.4937 - val_acc: 0.8201\n",
      "\n",
      "Epoch 00048: val_acc improved from 0.81897 to 0.82008, saving model to result/experiment_RNN_GRU1/checkpoints/experiment-improvement-48-0.82.hdf5\n",
      "Epoch 49/50\n",
      "133/133 [==============================] - 175s 1s/step - loss: 0.4698 - acc: 0.8304 - val_loss: 0.4905 - val_acc: 0.8210\n",
      "\n",
      "Epoch 00049: val_acc improved from 0.82008 to 0.82100, saving model to result/experiment_RNN_GRU1/checkpoints/experiment-improvement-49-0.82.hdf5\n",
      "Epoch 50/50\n",
      "133/133 [==============================] - 175s 1s/step - loss: 0.4660 - acc: 0.8317 - val_loss: 0.4874 - val_acc: 0.8230\n",
      "\n",
      "Epoch 00050: val_acc improved from 0.82100 to 0.82295, saving model to result/experiment_RNN_GRU1/checkpoints/experiment-improvement-50-0.82.hdf5\n"
     ]
    }
   ],
   "source": [
    "# =============================Fitting Model=================================\n",
    "hist = model.fit_generator(generator = data_generator(title_batch_generator,\n",
    "                                                      category_encoded_batch_generator,\n",
    "                                                      title_vectorize_fun,\n",
    "                                                      categorical_vectorize_fun,\n",
    "                                                      unique_classes,\n",
    "                                                      max_len_of_title),\n",
    "                               steps_per_epoch=steps_per_epoch,\n",
    "                               validation_data = data_generator(title_batch_generator_val,\n",
    "                                                                category_encoded_batch_generator_val,\n",
    "                                                                title_vectorize_fun,\n",
    "                                                                categorical_vectorize_fun,\n",
    "                                                                unique_classes,\n",
    "                                                                max_len_of_title),\n",
    "                               validation_steps=validation_steps,\n",
    "                               epochs=epoch_num,\n",
    "                               use_multiprocessing=True,\n",
    "                               callbacks=callbacks,\n",
    "                               verbose=1)"
   ]
  },
  {
   "cell_type": "code",
   "execution_count": 13,
   "metadata": {},
   "outputs": [],
   "source": [
    "df_results = pd.DataFrame(data = hist.history)\n",
    "df_results.to_csv(experiment_path+\"results_lists.csv\")"
   ]
  },
  {
   "cell_type": "markdown",
   "metadata": {},
   "source": [
    "# Evaluation"
   ]
  },
  {
   "cell_type": "code",
   "execution_count": 14,
   "metadata": {},
   "outputs": [],
   "source": [
    "# Encode X_test data\n",
    "x_test_encoding = x_test.apply(lambda x: title_vectorize_fun(x,max_len_of_title))\n",
    "x_test_encoding = np.stack(x_test_encoding,axis=0)\n",
    "y_test_encoding = [unique_classes.index(i) for i in y_test]"
   ]
  },
  {
   "cell_type": "code",
   "execution_count": 15,
   "metadata": {},
   "outputs": [
    {
     "name": "stdout",
     "output_type": "stream",
     "text": [
      "result/experiment_RNN_GRU1/checkpoints/experiment-improvement-50-0.82.hdf5\n"
     ]
    }
   ],
   "source": [
    "# load max vall_acc model '\n",
    "checkpoints_path_list = os.listdir(checkpoint_path_)\n",
    "all_checkpoints_list = [os.path.join(checkpoint_path_,i) for i in checkpoints_path_list]\n",
    "#Get the last inserted weight into the checkpoint_path\n",
    "all_checkpoints_list_sorted = sorted(all_checkpoints_list, key=os.path.getmtime)\n",
    "epochs_list = [int(re.findall(r'-[0-9|.]*-',path)[0].replace('-',\"\")) for path in all_checkpoints_list_sorted]\n",
    "max_checkpoint = all_checkpoints_list_sorted[epochs_list.index(max(epochs_list))]\n",
    "#load weights\n",
    "print(max_checkpoint)\n",
    "max_model = k.models.load_model(max_checkpoint)"
   ]
  },
  {
   "cell_type": "code",
   "execution_count": 16,
   "metadata": {},
   "outputs": [],
   "source": [
    "predictions = max_model.predict(x_test_encoding)\n",
    "predictions = [int(np.where(i==i.max())[0]) for i in predictions]"
   ]
  },
  {
   "cell_type": "code",
   "execution_count": 17,
   "metadata": {},
   "outputs": [
    {
     "name": "stdout",
     "output_type": "stream",
     "text": [
      "Accuracy :  0.820577164366374\n",
      "Recall :  0.820577164366374\n",
      "Precision :  0.8217298729054445\n",
      "F1 :  0.8186705542414339\n"
     ]
    }
   ],
   "source": [
    "print(\"Accuracy : \", matrics.accuracy_score(y_test_encoding, predictions))\n",
    "print(\"Recall : \", matrics.recall_score(y_test_encoding, predictions, average = 'weighted'))\n",
    "print(\"Precision : \", matrics.precision_score(y_test_encoding, predictions, average = 'weighted'))\n",
    "print(\"F1 : \", matrics.f1_score(y_test_encoding, predictions, average = 'weighted'))"
   ]
  },
  {
   "cell_type": "code",
   "execution_count": 18,
   "metadata": {},
   "outputs": [
    {
     "data": {
      "text/plain": [
       "<matplotlib.axes._subplots.AxesSubplot at 0x7f2347f818d0>"
      ]
     },
     "execution_count": 18,
     "metadata": {},
     "output_type": "execute_result"
    },
    {
     "data": {
      "image/png": "[encoded data removed]",
      "text/plain": [
       "<Figure size 648x360 with 2 Axes>"
      ]
     },
     "metadata": {},
     "output_type": "display_data"
    }
   ],
   "source": [
    "fig1 = plt.figure(figsize=(9, 5))\n",
    "confusion_mat = matrics.confusion_matrix(y_test_encoding, predictions)\n",
    "lables = ['Business', 'ScienceTechno', 'Entertainment', 'Health']\n",
    "sns.heatmap(confusion_mat, xticklabels=lables, yticklabels=lables, annot=True, fmt=\"d\")"
   ]
  },
  {
   "cell_type": "code",
   "execution_count": null,
   "metadata": {},
   "outputs": [],
   "source": []
  }
 ],
 "metadata": {
  "kernelspec": {
   "display_name": "Python 3",
   "language": "python",
   "name": "python3"
  },
  "language_info": {
   "codemirror_mode": {
    "name": "ipython",
    "version": 3
   },
   "file_extension": ".py",
   "mimetype": "text/x-python",
   "name": "python",
   "nbconvert_exporter": "python",
   "pygments_lexer": "ipython3",
   "version": "3.5.2"
  }
 },
 "nbformat": 4,
 "nbformat_minor": 2
}
