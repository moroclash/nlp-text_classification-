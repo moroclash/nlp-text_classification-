{
 "cells": [
  {
   "cell_type": "code",
   "execution_count": 1,
   "metadata": {},
   "outputs": [
    {
     "name": "stderr",
     "output_type": "stream",
     "text": [
      "/usr/local/lib/python3.5/dist-packages/h5py/__init__.py:36: FutureWarning: Conversion of the second argument of issubdtype from `float` to `np.floating` is deprecated. In future, it will be treated as `np.float64 == np.dtype(float).type`.\n",
      "  from ._conv import register_converters as _register_converters\n",
      "Using TensorFlow backend.\n"
     ]
    }
   ],
   "source": [
    "import os\n",
    "\n",
    "os.environ[\"CUDA_DEVICE_ORDER\"] = \"PCI_BUS_ID\"\n",
    "os.environ[\"CUDA_VISIBLE_DEVICES\"] = \"\"\n",
    "    \n",
    "import pandas as pd\n",
    "import keras as k\n",
    "import numpy as np\n",
    "import string\n",
    "from sklearn.model_selection import train_test_split\n",
    "import re\n",
    "import math\n",
    "import sklearn.metrics as matrics\n",
    "import seaborn as sns\n",
    "import matplotlib.pyplot as plt\n",
    "%matplotlib inline"
   ]
  },
  {
   "cell_type": "code",
   "execution_count": 2,
   "metadata": {},
   "outputs": [],
   "source": [
    "def title_one_hot(title,maxlen):\n",
    "    \n",
    "    def one(num,length):\n",
    "        vec = np.zeros(length)\n",
    "        vec[num] = 1\n",
    "        return vec\n",
    "    \n",
    "    alphabet1=list(string.ascii_lowercase)+[' ', '\\'' ,','] #Add space and apostrophe to our alphabets\n",
    "    alphabet = dict((c, i) for i, c in enumerate(alphabet1))\n",
    "    alphabet_ = dict((i, c) for i, c in enumerate(alphabet1))\n",
    "    d = maxlen - len(title)\n",
    "    title = title + \" \"*d\n",
    "    data = [one(alphabet[char],len(alphabet1)) for char in title]\n",
    "    return np.asarray(data)\n",
    "\n",
    "        \n",
    "def class_one_hot(class_,list_unique_of_classes):\n",
    "    one_hot_vec = np.zeros([len(list_unique_of_classes)])\n",
    "    one_hot_vec[list_unique_of_classes.index(class_)] = 1\n",
    "    return one_hot_vec\n",
    "\n",
    "\n",
    "\n",
    "def from_one_hot_to_char(arr): \n",
    "    a = []\n",
    "    alphabet1=list(string.ascii_lowercase)+[' ', '\\'' , ','] #Add space and apostrophe to our alphabets\n",
    "    alphabet = dict((c, i) for i, c in enumerate(alphabet1))\n",
    "    alphabet_ = dict((i, c) for i, c in enumerate(alphabet1))\n",
    "    for ii in arr:\n",
    "        a.append([alphabet_[i] for i,l in enumerate(ii) if int(l)==1][0])\n",
    "    return \"\".join(a)\n",
    "\n",
    "def from_one_hot_class_to_str(matrix,list_unique_classes):\n",
    "    class_dic = dict((class_, i) for i, class_ in enumerate(list_unique_classes))\n",
    "    for i,n in enumerate(matrix):\n",
    "        if n == 1:\n",
    "            return list(class_dic.keys())[list(class_dic.values())[i]]\n",
    "        \n",
    "def clean_data(x):\n",
    "    alphabet1=list(string.ascii_lowercase)+[' ', '\\'' ,'\\,']\n",
    "    x = re.sub('[^'+\"\".join(alphabet1)+']', ' ', x).lower()\n",
    "    x = re.sub('  +', ' ', x)\n",
    "    return x.lstrip()"
   ]
  },
  {
   "cell_type": "markdown",
   "metadata": {},
   "source": [
    "# Read Data"
   ]
  },
  {
   "cell_type": "code",
   "execution_count": 3,
   "metadata": {},
   "outputs": [],
   "source": [
    "data = pd.read_csv('uci-news-aggregator.csv')"
   ]
  },
  {
   "cell_type": "code",
   "execution_count": 4,
   "metadata": {},
   "outputs": [],
   "source": [
    "filterd_data = pd.DataFrame(data={\"title\":data.TITLE ,\"category\":data.CATEGORY})\n",
    "#clean data from very large titles\n",
    "filterd_data.drop(filterd_data[filterd_data.title.apply(len) >100].index,inplace=True)\n",
    "filterd_data.title = filterd_data.title.apply(clean_data)\n",
    "filterd_data.category = filterd_data.category.apply(clean_data)\n",
    "data = None"
   ]
  },
  {
   "cell_type": "code",
   "execution_count": 5,
   "metadata": {},
   "outputs": [
    {
     "data": {
      "text/html": [
       "<div>\n",
       "<style scoped>\n",
       "    .dataframe tbody tr th:only-of-type {\n",
       "        vertical-align: middle;\n",
       "    }\n",
       "\n",
       "    .dataframe tbody tr th {\n",
       "        vertical-align: top;\n",
       "    }\n",
       "\n",
       "    .dataframe thead th {\n",
       "        text-align: right;\n",
       "    }\n",
       "</style>\n",
       "<table border=\"1\" class=\"dataframe\">\n",
       "  <thead>\n",
       "    <tr style=\"text-align: right;\">\n",
       "      <th></th>\n",
       "      <th>category</th>\n",
       "      <th>title</th>\n",
       "    </tr>\n",
       "  </thead>\n",
       "  <tbody>\n",
       "    <tr>\n",
       "      <th>0</th>\n",
       "      <td>b</td>\n",
       "      <td>ed official says weak data caused by weather, ...</td>\n",
       "    </tr>\n",
       "    <tr>\n",
       "      <th>1</th>\n",
       "      <td>b</td>\n",
       "      <td>ed's harles losser sees high bar for change in...</td>\n",
       "    </tr>\n",
       "  </tbody>\n",
       "</table>\n",
       "</div>"
      ],
      "text/plain": [
       "  category                                              title\n",
       "0        b  ed official says weak data caused by weather, ...\n",
       "1        b  ed's harles losser sees high bar for change in..."
      ]
     },
     "execution_count": 5,
     "metadata": {},
     "output_type": "execute_result"
    }
   ],
   "source": [
    "filterd_data.head(2)"
   ]
  },
  {
   "cell_type": "code",
   "execution_count": 6,
   "metadata": {},
   "outputs": [
    {
     "data": {
      "text/plain": [
       "e    152462\n",
       "b    115967\n",
       "t    108342\n",
       "m     45639\n",
       "Name: category, dtype: int64"
      ]
     },
     "execution_count": 6,
     "metadata": {},
     "output_type": "execute_result"
    }
   ],
   "source": [
    "unique_classes = list(filterd_data.category.unique())\n",
    "filterd_data.category.value_counts()"
   ]
  },
  {
   "cell_type": "code",
   "execution_count": 7,
   "metadata": {},
   "outputs": [
    {
     "data": {
      "text/plain": [
       "89"
      ]
     },
     "execution_count": 7,
     "metadata": {},
     "output_type": "execute_result"
    }
   ],
   "source": [
    "max_len_of_title = filterd_data.title.apply(len).max()\n",
    "max_len_of_title"
   ]
  },
  {
   "cell_type": "markdown",
   "metadata": {},
   "source": [
    "# Start training"
   ]
  },
  {
   "cell_type": "code",
   "execution_count": 8,
   "metadata": {},
   "outputs": [],
   "source": [
    "X , Y = filterd_data.title , filterd_data.category\n",
    "# x , x_rest , y , y_rest = train_test_split(X, Y, test_size=0.95, random_state=42)\n",
    "x_train, x_test, y_train, y_test = train_test_split(X,\n",
    "                                                    Y,\n",
    "                                                    test_size=0.2,\n",
    "                                                    random_state=0)\n",
    "\n",
    "x_train, x_val, y_train, y_val = train_test_split(x_train,\n",
    "                                                  y_train,\n",
    "                                                  test_size=0.2,\n",
    "                                                  random_state=0)"
   ]
  },
  {
   "cell_type": "markdown",
   "metadata": {},
   "source": [
    "# encoding"
   ]
  },
  {
   "cell_type": "code",
   "execution_count": 9,
   "metadata": {},
   "outputs": [],
   "source": [
    "#===========================================================================\n",
    "def title_encode(x,max_len_of_title):\n",
    "    x = title_one_hot(x,max_len_of_title)\n",
    "    return x.flatten()\n",
    "\n",
    "# x_train = x.apply(lambda x : title_encode(x,max_len_of_title))\n",
    "# x_train = np.stack(x_train,axis=0)\n",
    "# y_train = y.apply(lambda x : class_one_hot(x,unique_classes))\n",
    "# y_train = np.stack(y_train,axis=0)\n",
    "#===========================================================================\n",
    "\n",
    "#================================work with batches=============================\n",
    "class generate_one_batch:\n",
    "    def __init__(self,batch_size,dataset):\n",
    "        self.batch_size = batch_size\n",
    "        self.dataset = dataset\n",
    "        self.start = 0\n",
    "\n",
    "    def get_batch(self):\n",
    "        end = self.start+self.batch_size \n",
    "        diff = end - len(self.dataset)\n",
    "        if diff > 0 :\n",
    "            if diff < self.batch_size :\n",
    "                end = len(self.dataset)\n",
    "            else:\n",
    "                self.start = 0\n",
    "                end = self.batch_size\n",
    "        returned_batch = self.dataset[self.start:end]\n",
    "        self.start +=  self.batch_size\n",
    "        return returned_batch \n",
    "\n",
    "\n",
    "\n",
    "def data_generator(title_generator,\n",
    "                   categorical_generator,\n",
    "                   title_vectorize_fun,\n",
    "                   categorical_vectorize_fun,\n",
    "                   list_of_unique_classes,\n",
    "                   max_title_len):\n",
    "    while True:\n",
    "        x = title_generator.get_batch()\n",
    "        x = x.apply(lambda x : title_vectorize_fun(x , max_title_len))\n",
    "        x = np.stack(x,axis=0)\n",
    "        y = categorical_generator.get_batch()\n",
    "        y = y.apply(lambda x : categorical_vectorize_fun(x,list_of_unique_classes))\n",
    "        y = np.stack(y,axis=0)\n",
    "        yield (x, y)\n",
    "            \n",
    "#===========================================================================\n",
    "\n",
    "batch_size = 2048\n",
    "epoch_num = 50\n",
    "saving_path = 'result/'\n",
    "experiment_name = \"experiment_normal_nn1\"\n",
    "# 0 => nn | 1=> rnn(lstm) | 2 => rnn(GRU)\n",
    "nn_or_rnn = 0\n",
    "\n",
    "\n",
    "\n",
    "checkpoint_path_ = saving_path+experiment_name+\"/checkpoints/\"\n",
    "experiment_path = saving_path+experiment_name+\"/\"\n",
    "result_path = saving_path+experiment_name+\"/result/\"\n",
    "try:\n",
    "    os.makedirs(checkpoint_path_)\n",
    "    os.makedirs(result_path)\n",
    "except OSError as e:\n",
    "    print(\"Can't create file\")\n",
    "    \n",
    "checkpoint_path = checkpoint_path_ + \"experiment-improvement-{epoch:02d}-{val_acc:.2f}.hdf5\"\n",
    "# ===========================================================================\n",
    "title_batch_generator = generate_one_batch(batch_size=batch_size, dataset=x_train)\n",
    "category_encoded_batch_generator = generate_one_batch(batch_size=batch_size, dataset=y_train)\n",
    "steps_per_epoch = math.ceil(len(x_train) / batch_size)\n",
    "\n",
    "title_batch_generator_val = generate_one_batch(batch_size=batch_size, dataset=x_val)\n",
    "category_encoded_batch_generator_val = generate_one_batch(batch_size=batch_size, dataset=y_val)\n",
    "validation_steps = math.ceil(len(x_val) / batch_size)\n",
    "# ==========================================================================="
   ]
  },
  {
   "cell_type": "markdown",
   "metadata": {},
   "source": [
    "# build NN"
   ]
  },
  {
   "cell_type": "code",
   "execution_count": 10,
   "metadata": {},
   "outputs": [],
   "source": [
    "if nn_or_rnn==0:\n",
    "    title_vectorize_fun = title_encode\n",
    "    categorical_vectorize_fun = class_one_hot\n",
    "    encode_of_one_title = title_vectorize_fun(x_train.iloc[0],max_len_of_title)\n",
    "\n",
    "    model = k.models.Sequential()\n",
    "    model.add(k.layers.Dense(40,input_shape=(encode_of_one_title.shape[0],),activation ='relu'))\n",
    "    model.add(k.layers.Dense(40,activation ='relu'))\n",
    "elif nn_or_rnn==1:\n",
    "    title_vectorize_fun = title_one_hot\n",
    "    categorical_vectorize_fun = class_one_hot\n",
    "    encode_of_one_title = title_vectorize_fun(x_train.iloc[0],max_len_of_title)\n",
    "    \n",
    "    model = k.models.Sequential()\n",
    "    model.add(k.layers.LSTM(40,return_sequences=True,input_shape=(max_len_of_title,encode_of_one_title.shape[1])))\n",
    "    model.add(k.layers.LSTM(40))\n",
    "else:\n",
    "    title_vectorize_fun = title_one_hot\n",
    "    categorical_vectorize_fun = class_one_hot\n",
    "    encode_of_one_title = title_vectorize_fun(x_train.iloc[0],max_len_of_title)\n",
    "    \n",
    "    model = k.models.Sequential()\n",
    "    model.add(k.layers.GRU(40,return_sequences=True,input_shape=(max_len_of_title,encode_of_one_title.shape[1])))\n",
    "    model.add(k.layers.GRU(40))\n",
    "    \n",
    "model.add(k.layers.Dense(units = len(unique_classes),activation = 'softmax'))          \n",
    "model.compile(loss='categorical_crossentropy', optimizer='adam',metrics = ['accuracy'])"
   ]
  },
  {
   "cell_type": "markdown",
   "metadata": {},
   "source": [
    "# check points"
   ]
  },
  {
   "cell_type": "code",
   "execution_count": 11,
   "metadata": {},
   "outputs": [
    {
     "name": "stdout",
     "output_type": "stream",
     "text": [
      "WARNING:tensorflow:From /usr/local/lib/python3.5/dist-packages/tensorflow/contrib/learn/python/learn/datasets/base.py:198: retry (from tensorflow.contrib.learn.python.learn.datasets.base) is deprecated and will be removed in a future version.\n",
      "Instructions for updating:\n",
      "Use the retry module or similar alternatives.\n"
     ]
    }
   ],
   "source": [
    "checkpoint = k.callbacks.ModelCheckpoint(checkpoint_path,\n",
    "                             monitor='val_acc',\n",
    "                             verbose=1,\n",
    "                             save_best_only=True,\n",
    "                             mode='max')\n",
    "\n",
    "# ===========================tensorboard=====================================\n",
    "tensorboard = k.callbacks.TensorBoard(log_dir=result_path,\n",
    "                                          histogram_freq=0,\n",
    "                                          batch_size=batch_size,\n",
    "                                          write_graph=True,\n",
    "                                          write_grads=True,\n",
    "                                          write_images=True,\n",
    "                                          embeddings_freq=0,\n",
    "                                          embeddings_layer_names=None,\n",
    "                                          embeddings_metadata=None)\n",
    "\n",
    "callbacks = [checkpoint , tensorboard]"
   ]
  },
  {
   "cell_type": "markdown",
   "metadata": {},
   "source": [
    "# Fit Model"
   ]
  },
  {
   "cell_type": "code",
   "execution_count": 12,
   "metadata": {},
   "outputs": [
    {
     "name": "stdout",
     "output_type": "stream",
     "text": [
      "Epoch 1/50\n",
      "133/133 [==============================] - 117s 877ms/step - loss: 1.1547 - acc: 0.4930 - val_loss: 1.0720 - val_acc: 0.5447\n",
      "\n",
      "Epoch 00001: val_acc improved from -inf to 0.54474, saving model to result/experiment_normal_nn1/checkpoints/experiment-improvement-01-0.54.hdf5\n",
      "Epoch 2/50\n",
      "133/133 [==============================] - 107s 801ms/step - loss: 1.0442 - acc: 0.5616 - val_loss: 1.0358 - val_acc: 0.5639\n",
      "\n",
      "Epoch 00002: val_acc improved from 0.54474 to 0.56395, saving model to result/experiment_normal_nn1/checkpoints/experiment-improvement-02-0.56.hdf5\n",
      "Epoch 3/50\n",
      "133/133 [==============================] - 112s 843ms/step - loss: 0.9982 - acc: 0.5848 - val_loss: 1.0011 - val_acc: 0.5831\n",
      "\n",
      "Epoch 00003: val_acc improved from 0.56395 to 0.58308, saving model to result/experiment_normal_nn1/checkpoints/experiment-improvement-03-0.58.hdf5\n",
      "Epoch 4/50\n",
      "133/133 [==============================] - 113s 846ms/step - loss: 0.9498 - acc: 0.6081 - val_loss: 0.9687 - val_acc: 0.6008\n",
      "\n",
      "Epoch 00004: val_acc improved from 0.58308 to 0.60079, saving model to result/experiment_normal_nn1/checkpoints/experiment-improvement-04-0.60.hdf5\n",
      "Epoch 5/50\n",
      "133/133 [==============================] - 113s 849ms/step - loss: 0.9049 - acc: 0.6297 - val_loss: 0.9453 - val_acc: 0.6139\n",
      "\n",
      "Epoch 00005: val_acc improved from 0.60079 to 0.61388, saving model to result/experiment_normal_nn1/checkpoints/experiment-improvement-05-0.61.hdf5\n",
      "Epoch 6/50\n",
      "133/133 [==============================] - 115s 864ms/step - loss: 0.8672 - acc: 0.6475 - val_loss: 0.9339 - val_acc: 0.6219\n",
      "\n",
      "Epoch 00006: val_acc improved from 0.61388 to 0.62195, saving model to result/experiment_normal_nn1/checkpoints/experiment-improvement-06-0.62.hdf5\n",
      "Epoch 7/50\n",
      "133/133 [==============================] - 115s 862ms/step - loss: 0.8374 - acc: 0.6622 - val_loss: 0.9259 - val_acc: 0.6270\n",
      "\n",
      "Epoch 00007: val_acc improved from 0.62195 to 0.62701, saving model to result/experiment_normal_nn1/checkpoints/experiment-improvement-07-0.63.hdf5\n",
      "Epoch 8/50\n",
      "133/133 [==============================] - 113s 849ms/step - loss: 0.8135 - acc: 0.6737 - val_loss: 0.9226 - val_acc: 0.6307\n",
      "\n",
      "Epoch 00008: val_acc improved from 0.62701 to 0.63068, saving model to result/experiment_normal_nn1/checkpoints/experiment-improvement-08-0.63.hdf5\n",
      "Epoch 9/50\n",
      "133/133 [==============================] - 113s 853ms/step - loss: 0.7937 - acc: 0.6828 - val_loss: 0.9204 - val_acc: 0.6333\n",
      "\n",
      "Epoch 00009: val_acc improved from 0.63068 to 0.63325, saving model to result/experiment_normal_nn1/checkpoints/experiment-improvement-09-0.63.hdf5\n",
      "Epoch 10/50\n",
      "133/133 [==============================] - 113s 850ms/step - loss: 0.7768 - acc: 0.6906 - val_loss: 0.9207 - val_acc: 0.6353\n",
      "\n",
      "Epoch 00010: val_acc improved from 0.63325 to 0.63529, saving model to result/experiment_normal_nn1/checkpoints/experiment-improvement-10-0.64.hdf5\n",
      "Epoch 11/50\n",
      "133/133 [==============================] - 115s 865ms/step - loss: 0.7617 - acc: 0.6981 - val_loss: 0.9234 - val_acc: 0.6367\n",
      "\n",
      "Epoch 00011: val_acc improved from 0.63529 to 0.63669, saving model to result/experiment_normal_nn1/checkpoints/experiment-improvement-11-0.64.hdf5\n",
      "Epoch 12/50\n",
      "133/133 [==============================] - 115s 867ms/step - loss: 0.7484 - acc: 0.7041 - val_loss: 0.9255 - val_acc: 0.6377\n",
      "\n",
      "Epoch 00012: val_acc improved from 0.63669 to 0.63769, saving model to result/experiment_normal_nn1/checkpoints/experiment-improvement-12-0.64.hdf5\n",
      "Epoch 13/50\n",
      "133/133 [==============================] - 103s 775ms/step - loss: 0.7359 - acc: 0.7099 - val_loss: 0.9263 - val_acc: 0.6387\n",
      "\n",
      "Epoch 00013: val_acc improved from 0.63769 to 0.63874, saving model to result/experiment_normal_nn1/checkpoints/experiment-improvement-13-0.64.hdf5\n",
      "Epoch 14/50\n",
      "133/133 [==============================] - 99s 746ms/step - loss: 0.7249 - acc: 0.7147 - val_loss: 0.9332 - val_acc: 0.6397\n",
      "\n",
      "Epoch 00014: val_acc improved from 0.63874 to 0.63970, saving model to result/experiment_normal_nn1/checkpoints/experiment-improvement-14-0.64.hdf5\n",
      "Epoch 15/50\n",
      "133/133 [==============================] - 127s 951ms/step - loss: 0.7147 - acc: 0.7193 - val_loss: 0.9441 - val_acc: 0.6394\n",
      "\n",
      "Epoch 00015: val_acc did not improve\n",
      "Epoch 16/50\n",
      "133/133 [==============================] - 120s 902ms/step - loss: 0.7059 - acc: 0.7234 - val_loss: 0.9515 - val_acc: 0.6386\n",
      "\n",
      "Epoch 00016: val_acc did not improve\n",
      "Epoch 17/50\n",
      "133/133 [==============================] - 131s 983ms/step - loss: 0.6979 - acc: 0.7271 - val_loss: 0.9497 - val_acc: 0.6388\n",
      "\n",
      "Epoch 00017: val_acc did not improve\n",
      "Epoch 18/50\n",
      "133/133 [==============================] - 135s 1s/step - loss: 0.6899 - acc: 0.7311 - val_loss: 0.9514 - val_acc: 0.6393\n",
      "\n",
      "Epoch 00018: val_acc did not improve\n",
      "Epoch 19/50\n",
      "133/133 [==============================] - 135s 1s/step - loss: 0.6826 - acc: 0.7337 - val_loss: 0.9555 - val_acc: 0.6394\n",
      "\n",
      "Epoch 00019: val_acc did not improve\n",
      "Epoch 20/50\n",
      "133/133 [==============================] - 131s 986ms/step - loss: 0.6761 - acc: 0.7372 - val_loss: 0.9660 - val_acc: 0.6400\n",
      "\n",
      "Epoch 00020: val_acc improved from 0.63970 to 0.64001, saving model to result/experiment_normal_nn1/checkpoints/experiment-improvement-20-0.64.hdf5\n",
      "Epoch 21/50\n",
      "133/133 [==============================] - 130s 979ms/step - loss: 0.6713 - acc: 0.7391 - val_loss: 0.9872 - val_acc: 0.6382\n",
      "\n",
      "Epoch 00021: val_acc did not improve\n",
      "Epoch 22/50\n",
      "133/133 [==============================] - 132s 995ms/step - loss: 0.6680 - acc: 0.7402 - val_loss: 0.9836 - val_acc: 0.6416\n",
      "\n",
      "Epoch 00022: val_acc improved from 0.64001 to 0.64160, saving model to result/experiment_normal_nn1/checkpoints/experiment-improvement-22-0.64.hdf5\n",
      "Epoch 23/50\n",
      "133/133 [==============================] - 132s 991ms/step - loss: 0.6657 - acc: 0.7409 - val_loss: 0.9712 - val_acc: 0.6392\n",
      "\n",
      "Epoch 00023: val_acc did not improve\n",
      "Epoch 24/50\n",
      "133/133 [==============================] - 135s 1s/step - loss: 0.6606 - acc: 0.7430 - val_loss: 0.9835 - val_acc: 0.6346\n",
      "\n",
      "Epoch 00024: val_acc did not improve\n",
      "Epoch 25/50\n",
      "133/133 [==============================] - 131s 987ms/step - loss: 0.6517 - acc: 0.7470 - val_loss: 0.9651 - val_acc: 0.6414\n",
      "\n",
      "Epoch 00025: val_acc did not improve\n",
      "Epoch 26/50\n",
      "133/133 [==============================] - 124s 930ms/step - loss: 0.6427 - acc: 0.7513 - val_loss: 0.9709 - val_acc: 0.6427\n",
      "\n",
      "Epoch 00026: val_acc improved from 0.64160 to 0.64272, saving model to result/experiment_normal_nn1/checkpoints/experiment-improvement-26-0.64.hdf5\n",
      "Epoch 27/50\n",
      "133/133 [==============================] - 125s 940ms/step - loss: 0.6365 - acc: 0.7541 - val_loss: 0.9789 - val_acc: 0.6424\n",
      "\n",
      "Epoch 00027: val_acc did not improve\n",
      "Epoch 28/50\n",
      "133/133 [==============================] - 124s 930ms/step - loss: 0.6314 - acc: 0.7564 - val_loss: 0.9860 - val_acc: 0.6423\n",
      "\n",
      "Epoch 00028: val_acc did not improve\n",
      "Epoch 29/50\n",
      "133/133 [==============================] - 125s 943ms/step - loss: 0.6266 - acc: 0.7589 - val_loss: 0.9929 - val_acc: 0.6424\n",
      "\n",
      "Epoch 00029: val_acc did not improve\n",
      "Epoch 30/50\n",
      "133/133 [==============================] - 125s 937ms/step - loss: 0.6223 - acc: 0.7609 - val_loss: 0.9972 - val_acc: 0.6421\n",
      "\n",
      "Epoch 00030: val_acc did not improve\n",
      "Epoch 31/50\n",
      "133/133 [==============================] - 124s 931ms/step - loss: 0.6183 - acc: 0.7627 - val_loss: 1.0022 - val_acc: 0.6418\n",
      "\n",
      "Epoch 00031: val_acc did not improve\n",
      "Epoch 32/50\n",
      "133/133 [==============================] - 123s 928ms/step - loss: 0.6147 - acc: 0.7645 - val_loss: 1.0075 - val_acc: 0.6419\n",
      "\n",
      "Epoch 00032: val_acc did not improve\n",
      "Epoch 33/50\n",
      "133/133 [==============================] - 126s 949ms/step - loss: 0.6112 - acc: 0.7657 - val_loss: 1.0121 - val_acc: 0.6422\n",
      "\n",
      "Epoch 00033: val_acc did not improve\n",
      "Epoch 34/50\n",
      "133/133 [==============================] - 124s 933ms/step - loss: 0.6081 - acc: 0.7671 - val_loss: 1.0160 - val_acc: 0.6424\n",
      "\n",
      "Epoch 00034: val_acc did not improve\n",
      "Epoch 35/50\n",
      "133/133 [==============================] - 126s 945ms/step - loss: 0.6054 - acc: 0.7680 - val_loss: 1.0199 - val_acc: 0.6425\n",
      "\n",
      "Epoch 00035: val_acc did not improve\n",
      "Epoch 36/50\n",
      "133/133 [==============================] - 126s 950ms/step - loss: 0.6028 - acc: 0.7691 - val_loss: 1.0254 - val_acc: 0.6423\n",
      "\n",
      "Epoch 00036: val_acc did not improve\n",
      "Epoch 37/50\n"
     ]
    },
    {
     "name": "stdout",
     "output_type": "stream",
     "text": [
      "133/133 [==============================] - 126s 946ms/step - loss: 0.6004 - acc: 0.7701 - val_loss: 1.0322 - val_acc: 0.6418\n",
      "\n",
      "Epoch 00037: val_acc did not improve\n",
      "Epoch 38/50\n",
      "133/133 [==============================] - 126s 944ms/step - loss: 0.5979 - acc: 0.7711 - val_loss: 1.0403 - val_acc: 0.6415\n",
      "\n",
      "Epoch 00038: val_acc did not improve\n",
      "Epoch 39/50\n",
      "133/133 [==============================] - 125s 937ms/step - loss: 0.5958 - acc: 0.7721 - val_loss: 1.0481 - val_acc: 0.6410\n",
      "\n",
      "Epoch 00039: val_acc did not improve\n",
      "Epoch 40/50\n",
      "133/133 [==============================] - 122s 914ms/step - loss: 0.5937 - acc: 0.7728 - val_loss: 1.0588 - val_acc: 0.6403\n",
      "\n",
      "Epoch 00040: val_acc did not improve\n",
      "Epoch 41/50\n",
      "133/133 [==============================] - 126s 947ms/step - loss: 0.5916 - acc: 0.7738 - val_loss: 1.0679 - val_acc: 0.6393\n",
      "\n",
      "Epoch 00041: val_acc did not improve\n",
      "Epoch 42/50\n",
      "133/133 [==============================] - 129s 966ms/step - loss: 0.5894 - acc: 0.7748 - val_loss: 1.0748 - val_acc: 0.6394\n",
      "\n",
      "Epoch 00042: val_acc did not improve\n",
      "Epoch 43/50\n",
      "133/133 [==============================] - 130s 981ms/step - loss: 0.5873 - acc: 0.7756 - val_loss: 1.0761 - val_acc: 0.6399\n",
      "\n",
      "Epoch 00043: val_acc did not improve\n",
      "Epoch 44/50\n",
      "133/133 [==============================] - 126s 950ms/step - loss: 0.5854 - acc: 0.7764 - val_loss: 1.0732 - val_acc: 0.6398\n",
      "\n",
      "Epoch 00044: val_acc did not improve\n",
      "Epoch 45/50\n",
      "133/133 [==============================] - 128s 964ms/step - loss: 0.5837 - acc: 0.7769 - val_loss: 1.0734 - val_acc: 0.6399\n",
      "\n",
      "Epoch 00045: val_acc did not improve\n",
      "Epoch 46/50\n",
      "133/133 [==============================] - 128s 961ms/step - loss: 0.5820 - acc: 0.7778 - val_loss: 1.0798 - val_acc: 0.6387\n",
      "\n",
      "Epoch 00046: val_acc did not improve\n",
      "Epoch 47/50\n",
      "133/133 [==============================] - 128s 966ms/step - loss: 0.5809 - acc: 0.7778 - val_loss: 1.0802 - val_acc: 0.6386\n",
      "\n",
      "Epoch 00047: val_acc did not improve\n",
      "Epoch 48/50\n",
      "133/133 [==============================] - 131s 983ms/step - loss: 0.5811 - acc: 0.7775 - val_loss: 1.0822 - val_acc: 0.6397\n",
      "\n",
      "Epoch 00048: val_acc did not improve\n",
      "Epoch 49/50\n",
      "133/133 [==============================] - 131s 985ms/step - loss: 0.5847 - acc: 0.7757 - val_loss: 1.1027 - val_acc: 0.6374\n",
      "\n",
      "Epoch 00049: val_acc did not improve\n",
      "Epoch 50/50\n",
      "133/133 [==============================] - 130s 979ms/step - loss: 0.5923 - acc: 0.7713 - val_loss: 1.0952 - val_acc: 0.6373\n",
      "\n",
      "Epoch 00050: val_acc did not improve\n"
     ]
    }
   ],
   "source": [
    "# =============================Fitting Model=================================\n",
    "hist = model.fit_generator(generator = data_generator(title_batch_generator,\n",
    "                                                      category_encoded_batch_generator,\n",
    "                                                      title_vectorize_fun,\n",
    "                                                      categorical_vectorize_fun,\n",
    "                                                      unique_classes,\n",
    "                                                      max_len_of_title),\n",
    "                               steps_per_epoch=steps_per_epoch,\n",
    "                               validation_data = data_generator(title_batch_generator_val,\n",
    "                                                                category_encoded_batch_generator_val,\n",
    "                                                                title_vectorize_fun,\n",
    "                                                                categorical_vectorize_fun,\n",
    "                                                                unique_classes,\n",
    "                                                                max_len_of_title),\n",
    "                               validation_steps=validation_steps,\n",
    "                               epochs=epoch_num,\n",
    "                               use_multiprocessing=True,\n",
    "                               callbacks=callbacks,\n",
    "                               verbose=1)"
   ]
  },
  {
   "cell_type": "code",
   "execution_count": 14,
   "metadata": {},
   "outputs": [],
   "source": [
    "df_results = pd.DataFrame(data = hist.history)\n",
    "df_results.to_csv(experiment_path+\"results_lists.csv\")"
   ]
  },
  {
   "cell_type": "markdown",
   "metadata": {},
   "source": [
    "# Evaluation"
   ]
  },
  {
   "cell_type": "code",
   "execution_count": 15,
   "metadata": {},
   "outputs": [],
   "source": [
    "# Encode X_test data\n",
    "x_test_encoding = x_test.apply(lambda x: title_vectorize_fun(x,max_len_of_title))\n",
    "x_test_encoding = np.stack(x_test_encoding,axis=0)\n",
    "y_test_encoding = [unique_classes.index(i) for i in y_test]"
   ]
  },
  {
   "cell_type": "code",
   "execution_count": 16,
   "metadata": {},
   "outputs": [
    {
     "name": "stdout",
     "output_type": "stream",
     "text": [
      "result/experiment_normal_nn1/checkpoints/experiment-improvement-26-0.64.hdf5\n"
     ]
    }
   ],
   "source": [
    "# load max vall_acc model '\n",
    "checkpoints_path_list = os.listdir(checkpoint_path_)\n",
    "all_checkpoints_list = [os.path.join(checkpoint_path_,i) for i in checkpoints_path_list]\n",
    "#Get the last inserted weight into the checkpoint_path\n",
    "all_checkpoints_list_sorted = sorted(all_checkpoints_list, key=os.path.getmtime)\n",
    "epochs_list = [int(re.findall(r'-[0-9|.]*-',path)[0].replace('-',\"\")) for path in all_checkpoints_list_sorted]\n",
    "max_checkpoint = all_checkpoints_list_sorted[epochs_list.index(max(epochs_list))]\n",
    "#load weights\n",
    "print(max_checkpoint)\n",
    "max_model = k.models.load_model(max_checkpoint)"
   ]
  },
  {
   "cell_type": "code",
   "execution_count": 17,
   "metadata": {},
   "outputs": [],
   "source": [
    "predictions = max_model.predict(x_test_encoding)\n",
    "predictions = [int(np.where(i==i.max())[0]) for i in predictions]"
   ]
  },
  {
   "cell_type": "code",
   "execution_count": 18,
   "metadata": {},
   "outputs": [
    {
     "name": "stdout",
     "output_type": "stream",
     "text": [
      "Accuracy :  0.6391183920835207\n",
      "Recall :  0.6391183920835207\n",
      "Precision :  0.6329889250789779\n",
      "F1 :  0.6321319871801525\n"
     ]
    }
   ],
   "source": [
    "print(\"Accuracy : \", matrics.accuracy_score(y_test_encoding, predictions))\n",
    "print(\"Recall : \", matrics.recall_score(y_test_encoding, predictions, average = 'weighted'))\n",
    "print(\"Precision : \", matrics.precision_score(y_test_encoding, predictions, average = 'weighted'))\n",
    "print(\"F1 : \", matrics.f1_score(y_test_encoding, predictions, average = 'weighted'))"
   ]
  },
  {
   "cell_type": "code",
   "execution_count": 19,
   "metadata": {},
   "outputs": [
    {
     "data": {
      "text/plain": [
       "<matplotlib.axes._subplots.AxesSubplot at 0x7f7b2e607f60>"
      ]
     },
     "execution_count": 19,
     "metadata": {},
     "output_type": "execute_result"
    },
    {
     "data": {
      "image/png": "[encoded data removed]",
      "text/plain": [
       "<Figure size 648x360 with 2 Axes>"
      ]
     },
     "metadata": {},
     "output_type": "display_data"
    }
   ],
   "source": [
    "fig1 = plt.figure(figsize=(9, 5))\n",
    "confusion_mat = matrics.confusion_matrix(y_test_encoding, predictions)\n",
    "lables = ['Business', 'ScienceTechno', 'Entertainment', 'Health']\n",
    "sns.heatmap(confusion_mat, xticklabels=lables, yticklabels=lables, annot=True, fmt=\"d\")"
   ]
  },
  {
   "cell_type": "code",
   "execution_count": null,
   "metadata": {},
   "outputs": [],
   "source": []
  }
 ],
 "metadata": {
  "kernelspec": {
   "display_name": "Python 3",
   "language": "python",
   "name": "python3"
  },
  "language_info": {
   "codemirror_mode": {
    "name": "ipython",
    "version": 3
   },
   "file_extension": ".py",
   "mimetype": "text/x-python",
   "name": "python",
   "nbconvert_exporter": "python",
   "pygments_lexer": "ipython3",
   "version": "3.5.2"
  }
 },
 "nbformat": 4,
 "nbformat_minor": 2
}
