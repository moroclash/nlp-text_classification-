{
 "cells": [
  {
   "cell_type": "code",
   "execution_count": 1,
   "metadata": {},
   "outputs": [
    {
     "name": "stderr",
     "output_type": "stream",
     "text": [
      "/usr/local/lib/python3.5/dist-packages/h5py/__init__.py:36: FutureWarning: Conversion of the second argument of issubdtype from `float` to `np.floating` is deprecated. In future, it will be treated as `np.float64 == np.dtype(float).type`.\n",
      "  from ._conv import register_converters as _register_converters\n",
      "Using TensorFlow backend.\n"
     ]
    }
   ],
   "source": [
    "import os\n",
    "import pandas as pd\n",
    "import keras as k\n",
    "import numpy as np\n",
    "import string\n",
    "from sklearn.model_selection import train_test_split\n",
    "import re\n",
    "import math\n",
    "import sklearn.metrics as matrics\n",
    "import seaborn as sns\n",
    "import matplotlib.pyplot as plt\n",
    "%matplotlib inline"
   ]
  },
  {
   "cell_type": "code",
   "execution_count": 2,
   "metadata": {},
   "outputs": [],
   "source": [
    "def title_one_hot(title,maxlen):\n",
    "    \n",
    "    def one(num,length):\n",
    "        vec = np.zeros(length)\n",
    "        vec[num] = 1\n",
    "        return vec\n",
    "    \n",
    "    alphabet1=list(string.ascii_lowercase)+[' ', '\\'' ,','] #Add space and apostrophe to our alphabets\n",
    "    alphabet = dict((c, i) for i, c in enumerate(alphabet1))\n",
    "    alphabet_ = dict((i, c) for i, c in enumerate(alphabet1))\n",
    "    d = maxlen - len(title)\n",
    "    title = title + \" \"*d\n",
    "    data = [one(alphabet[char],len(alphabet1)) for char in title]\n",
    "    return np.asarray(data)\n",
    "\n",
    "        \n",
    "def class_one_hot(class_,list_unique_of_classes):\n",
    "    one_hot_vec = np.zeros([len(list_unique_of_classes)])\n",
    "    one_hot_vec[list_unique_of_classes.index(class_)] = 1\n",
    "    return one_hot_vec\n",
    "\n",
    "\n",
    "\n",
    "def from_one_hot_to_char(arr): \n",
    "    a = []\n",
    "    alphabet1=list(string.ascii_lowercase)+[' ', '\\'' , ','] #Add space and apostrophe to our alphabets\n",
    "    alphabet = dict((c, i) for i, c in enumerate(alphabet1))\n",
    "    alphabet_ = dict((i, c) for i, c in enumerate(alphabet1))\n",
    "    for ii in arr:\n",
    "        a.append([alphabet_[i] for i,l in enumerate(ii) if int(l)==1][0])\n",
    "    return \"\".join(a)\n",
    "\n",
    "def from_one_hot_class_to_str(matrix,list_unique_classes):\n",
    "    class_dic = dict((class_, i) for i, class_ in enumerate(list_unique_classes))\n",
    "    for i,n in enumerate(matrix):\n",
    "        if n == 1:\n",
    "            return list(class_dic.keys())[list(class_dic.values())[i]]\n",
    "        \n",
    "def clean_data(x):\n",
    "    alphabet1=list(string.ascii_lowercase)+[' ', '\\'' ,'\\,']\n",
    "    x = re.sub('[^'+\"\".join(alphabet1)+']', ' ', x).lower()\n",
    "    x = re.sub('  +', ' ', x)\n",
    "    return x.lstrip()"
   ]
  },
  {
   "cell_type": "markdown",
   "metadata": {},
   "source": [
    "# Read Data"
   ]
  },
  {
   "cell_type": "code",
   "execution_count": 3,
   "metadata": {},
   "outputs": [],
   "source": [
    "data = pd.read_csv('uci-news-aggregator.csv')"
   ]
  },
  {
   "cell_type": "code",
   "execution_count": 4,
   "metadata": {},
   "outputs": [],
   "source": [
    "filterd_data = pd.DataFrame(data={\"title\":data.TITLE ,\"category\":data.CATEGORY})\n",
    "#clean data from very large titles\n",
    "filterd_data.drop(filterd_data[filterd_data.title.apply(len) >100].index,inplace=True)\n",
    "filterd_data.title = filterd_data.title.apply(clean_data)\n",
    "filterd_data.category = filterd_data.category.apply(clean_data)\n",
    "data = None"
   ]
  },
  {
   "cell_type": "code",
   "execution_count": 5,
   "metadata": {},
   "outputs": [
    {
     "data": {
      "text/html": [
       "<div>\n",
       "<style scoped>\n",
       "    .dataframe tbody tr th:only-of-type {\n",
       "        vertical-align: middle;\n",
       "    }\n",
       "\n",
       "    .dataframe tbody tr th {\n",
       "        vertical-align: top;\n",
       "    }\n",
       "\n",
       "    .dataframe thead th {\n",
       "        text-align: right;\n",
       "    }\n",
       "</style>\n",
       "<table border=\"1\" class=\"dataframe\">\n",
       "  <thead>\n",
       "    <tr style=\"text-align: right;\">\n",
       "      <th></th>\n",
       "      <th>category</th>\n",
       "      <th>title</th>\n",
       "    </tr>\n",
       "  </thead>\n",
       "  <tbody>\n",
       "    <tr>\n",
       "      <th>0</th>\n",
       "      <td>b</td>\n",
       "      <td>ed official says weak data caused by weather, ...</td>\n",
       "    </tr>\n",
       "    <tr>\n",
       "      <th>1</th>\n",
       "      <td>b</td>\n",
       "      <td>ed's harles losser sees high bar for change in...</td>\n",
       "    </tr>\n",
       "  </tbody>\n",
       "</table>\n",
       "</div>"
      ],
      "text/plain": [
       "  category                                              title\n",
       "0        b  ed official says weak data caused by weather, ...\n",
       "1        b  ed's harles losser sees high bar for change in..."
      ]
     },
     "execution_count": 5,
     "metadata": {},
     "output_type": "execute_result"
    }
   ],
   "source": [
    "filterd_data.head(2)"
   ]
  },
  {
   "cell_type": "code",
   "execution_count": 6,
   "metadata": {},
   "outputs": [
    {
     "data": {
      "text/plain": [
       "e    152462\n",
       "b    115967\n",
       "t    108342\n",
       "m     45639\n",
       "Name: category, dtype: int64"
      ]
     },
     "execution_count": 6,
     "metadata": {},
     "output_type": "execute_result"
    }
   ],
   "source": [
    "unique_classes = list(filterd_data.category.unique())\n",
    "filterd_data.category.value_counts()"
   ]
  },
  {
   "cell_type": "code",
   "execution_count": 7,
   "metadata": {},
   "outputs": [
    {
     "data": {
      "text/plain": [
       "89"
      ]
     },
     "execution_count": 7,
     "metadata": {},
     "output_type": "execute_result"
    }
   ],
   "source": [
    "max_len_of_title = filterd_data.title.apply(len).max()\n",
    "max_len_of_title"
   ]
  },
  {
   "cell_type": "markdown",
   "metadata": {},
   "source": [
    "# Start training"
   ]
  },
  {
   "cell_type": "code",
   "execution_count": 8,
   "metadata": {},
   "outputs": [],
   "source": [
    "X , Y = filterd_data.title , filterd_data.category\n",
    "# x , x_rest , y , y_rest = train_test_split(X, Y, test_size=0.95, random_state=42)\n",
    "x_train, x_test, y_train, y_test = train_test_split(X,\n",
    "                                                    Y,\n",
    "                                                    test_size=0.2,\n",
    "                                                    random_state=0)\n",
    "\n",
    "x_train, x_val, y_train, y_val = train_test_split(x_train,\n",
    "                                                  y_train,\n",
    "                                                  test_size=0.2,\n",
    "                                                  random_state=0)"
   ]
  },
  {
   "cell_type": "markdown",
   "metadata": {},
   "source": [
    "# encoding"
   ]
  },
  {
   "cell_type": "code",
   "execution_count": 9,
   "metadata": {},
   "outputs": [],
   "source": [
    "#===========================================================================\n",
    "def title_encode(x,max_len_of_title):\n",
    "    x = title_one_hot(x,max_len_of_title)\n",
    "    return x.flatten()\n",
    "\n",
    "# x_train = x.apply(lambda x : title_encode(x,max_len_of_title))\n",
    "# x_train = np.stack(x_train,axis=0)\n",
    "# y_train = y.apply(lambda x : class_one_hot(x,unique_classes))\n",
    "# y_train = np.stack(y_train,axis=0)\n",
    "#===========================================================================\n",
    "\n",
    "#================================work with batches=============================\n",
    "class generate_one_batch:\n",
    "    def __init__(self,batch_size,dataset):\n",
    "        self.batch_size = batch_size\n",
    "        self.dataset = dataset\n",
    "        self.start = 0\n",
    "\n",
    "    def get_batch(self):\n",
    "        end = self.start+self.batch_size \n",
    "        diff = end - len(self.dataset)\n",
    "        if diff > 0 :\n",
    "            if diff < self.batch_size :\n",
    "                end = len(self.dataset)\n",
    "            else:\n",
    "                self.start = 0\n",
    "                end = self.batch_size\n",
    "        returned_batch = self.dataset[self.start:end]\n",
    "        self.start +=  self.batch_size\n",
    "        return returned_batch \n",
    "\n",
    "\n",
    "\n",
    "def data_generator(title_generator,\n",
    "                   categorical_generator,\n",
    "                   title_vectorize_fun,\n",
    "                   categorical_vectorize_fun,\n",
    "                   list_of_unique_classes,\n",
    "                   max_title_len):\n",
    "    while True:\n",
    "        x = title_generator.get_batch()\n",
    "        x = x.apply(lambda x : title_vectorize_fun(x , max_title_len))\n",
    "        x = np.stack(x,axis=0)\n",
    "        y = categorical_generator.get_batch()\n",
    "        y = y.apply(lambda x : categorical_vectorize_fun(x,list_of_unique_classes))\n",
    "        y = np.stack(y,axis=0)\n",
    "        yield (x, y)\n",
    "            \n",
    "#===========================================================================\n",
    "\n",
    "batch_size = 2048\n",
    "epoch_num = 50\n",
    "saving_path = 'result/'\n",
    "experiment_name = \"experiment_RNN1\"\n",
    "# 0 => nn | 1=> rnn(lstm) | 2 => rnn(GRU)\n",
    "nn_or_rnn = 1\n",
    "\n",
    "\n",
    "\n",
    "checkpoint_path_ = saving_path+experiment_name+\"/checkpoints/\"\n",
    "experiment_path = saving_path+experiment_name+\"/\"\n",
    "result_path = saving_path+experiment_name+\"/result/\"\n",
    "try:\n",
    "    os.makedirs(checkpoint_path_)\n",
    "    os.makedirs(result_path)\n",
    "except OSError as e:\n",
    "    print(\"Can't create file\")\n",
    "    \n",
    "checkpoint_path = checkpoint_path_ + \"experiment-improvement-{epoch:02d}-{val_acc:.2f}.hdf5\"\n",
    "# ===========================================================================\n",
    "title_batch_generator = generate_one_batch(batch_size=batch_size, dataset=x_train)\n",
    "category_encoded_batch_generator = generate_one_batch(batch_size=batch_size, dataset=y_train)\n",
    "steps_per_epoch = math.ceil(len(x_train) / batch_size)\n",
    "\n",
    "title_batch_generator_val = generate_one_batch(batch_size=batch_size, dataset=x_val)\n",
    "category_encoded_batch_generator_val = generate_one_batch(batch_size=batch_size, dataset=y_val)\n",
    "validation_steps = math.ceil(len(x_val) / batch_size)\n",
    "# ==========================================================================="
   ]
  },
  {
   "cell_type": "markdown",
   "metadata": {},
   "source": [
    "# build NN"
   ]
  },
  {
   "cell_type": "code",
   "execution_count": 10,
   "metadata": {},
   "outputs": [],
   "source": [
    "if nn_or_rnn==0:\n",
    "    title_vectorize_fun = title_encode\n",
    "    categorical_vectorize_fun = class_one_hot\n",
    "    encode_of_one_title = title_vectorize_fun(x_train.iloc[0],max_len_of_title)\n",
    "\n",
    "    model = k.models.Sequential()\n",
    "    model.add(k.layers.Dense(40,input_shape=(encode_of_one_title.shape[0],),activation ='relu'))\n",
    "    model.add(k.layers.Dense(40,activation ='relu'))\n",
    "elif nn_or_rnn==1:\n",
    "    title_vectorize_fun = title_one_hot\n",
    "    categorical_vectorize_fun = class_one_hot\n",
    "    encode_of_one_title = title_vectorize_fun(x_train.iloc[0],max_len_of_title)\n",
    "    \n",
    "    model = k.models.Sequential()\n",
    "    model.add(k.layers.LSTM(40,return_sequences=True,input_shape=(max_len_of_title,encode_of_one_title.shape[1])))\n",
    "    model.add(k.layers.LSTM(40))\n",
    "else:\n",
    "    title_vectorize_fun = title_one_hot\n",
    "    categorical_vectorize_fun = class_one_hot\n",
    "    encode_of_one_title = title_vectorize_fun(x_train.iloc[0],max_len_of_title)\n",
    "    \n",
    "    model = k.models.Sequential()\n",
    "    model.add(k.layers.GRU(40,return_sequences=True,input_shape=(max_len_of_title,encode_of_one_title.shape[1])))\n",
    "    model.add(k.layers.GRU(40))\n",
    "    \n",
    "model.add(k.layers.Dense(units = len(unique_classes),activation = 'softmax'))          \n",
    "model.compile(loss='categorical_crossentropy', optimizer='adam',metrics = ['accuracy'])"
   ]
  },
  {
   "cell_type": "markdown",
   "metadata": {},
   "source": [
    "# check points"
   ]
  },
  {
   "cell_type": "code",
   "execution_count": 11,
   "metadata": {},
   "outputs": [
    {
     "name": "stdout",
     "output_type": "stream",
     "text": [
      "WARNING:tensorflow:From /usr/local/lib/python3.5/dist-packages/tensorflow/contrib/learn/python/learn/datasets/base.py:198: retry (from tensorflow.contrib.learn.python.learn.datasets.base) is deprecated and will be removed in a future version.\n",
      "Instructions for updating:\n",
      "Use the retry module or similar alternatives.\n"
     ]
    }
   ],
   "source": [
    "checkpoint = k.callbacks.ModelCheckpoint(checkpoint_path,\n",
    "                             monitor='val_acc',\n",
    "                             verbose=1,\n",
    "                             save_best_only=True,\n",
    "                             mode='max')\n",
    "\n",
    "# ===========================tensorboard=====================================\n",
    "tensorboard = k.callbacks.TensorBoard(log_dir=result_path,\n",
    "                                          histogram_freq=0,\n",
    "                                          batch_size=batch_size,\n",
    "                                          write_graph=True,\n",
    "                                          write_grads=True,\n",
    "                                          write_images=True,\n",
    "                                          embeddings_freq=0,\n",
    "                                          embeddings_layer_names=None,\n",
    "                                          embeddings_metadata=None)\n",
    "\n",
    "callbacks = [checkpoint , tensorboard]"
   ]
  },
  {
   "cell_type": "markdown",
   "metadata": {},
   "source": [
    "# Fit Model"
   ]
  },
  {
   "cell_type": "code",
   "execution_count": 12,
   "metadata": {},
   "outputs": [
    {
     "name": "stdout",
     "output_type": "stream",
     "text": [
      "Epoch 1/50\n",
      "133/133 [==============================] - 120s 906ms/step - loss: 1.3141 - acc: 0.3584 - val_loss: 1.3115 - val_acc: 0.3607\n",
      "\n",
      "Epoch 00001: val_acc improved from -inf to 0.36074, saving model to result/experiment_RNN1/checkpoints/experiment-improvement-01-0.36.hdf5\n",
      "Epoch 2/50\n",
      "133/133 [==============================] - 114s 858ms/step - loss: 1.2711 - acc: 0.3963 - val_loss: 1.2299 - val_acc: 0.4253\n",
      "\n",
      "Epoch 00002: val_acc improved from 0.36074 to 0.42525, saving model to result/experiment_RNN1/checkpoints/experiment-improvement-02-0.43.hdf5\n",
      "Epoch 3/50\n",
      "133/133 [==============================] - 116s 874ms/step - loss: 1.1995 - acc: 0.4523 - val_loss: 1.2295 - val_acc: 0.4236\n",
      "\n",
      "Epoch 00003: val_acc did not improve\n",
      "Epoch 4/50\n",
      "133/133 [==============================] - 115s 865ms/step - loss: 1.1784 - acc: 0.4699 - val_loss: 1.2392 - val_acc: 0.4399\n",
      "\n",
      "Epoch 00004: val_acc improved from 0.42525 to 0.43987, saving model to result/experiment_RNN1/checkpoints/experiment-improvement-04-0.44.hdf5\n",
      "Epoch 5/50\n",
      "133/133 [==============================] - 117s 883ms/step - loss: 1.1635 - acc: 0.4855 - val_loss: 1.1681 - val_acc: 0.4805\n",
      "\n",
      "Epoch 00005: val_acc improved from 0.43987 to 0.48048, saving model to result/experiment_RNN1/checkpoints/experiment-improvement-05-0.48.hdf5\n",
      "Epoch 6/50\n",
      "133/133 [==============================] - 115s 865ms/step - loss: 1.1383 - acc: 0.5024 - val_loss: 1.2138 - val_acc: 0.4552\n",
      "\n",
      "Epoch 00006: val_acc did not improve\n",
      "Epoch 7/50\n",
      "133/133 [==============================] - 117s 881ms/step - loss: 1.1140 - acc: 0.5196 - val_loss: 1.4999 - val_acc: 0.3843\n",
      "\n",
      "Epoch 00007: val_acc did not improve\n",
      "Epoch 8/50\n",
      "133/133 [==============================] - 117s 877ms/step - loss: 1.1353 - acc: 0.5032 - val_loss: 1.4014 - val_acc: 0.3958\n",
      "\n",
      "Epoch 00008: val_acc did not improve\n",
      "Epoch 9/50\n",
      "133/133 [==============================] - 116s 873ms/step - loss: 1.0879 - acc: 0.5341 - val_loss: 1.2368 - val_acc: 0.4554\n",
      "\n",
      "Epoch 00009: val_acc did not improve\n",
      "Epoch 10/50\n",
      "133/133 [==============================] - 116s 874ms/step - loss: 1.0567 - acc: 0.5539 - val_loss: 1.2318 - val_acc: 0.4618\n",
      "\n",
      "Epoch 00010: val_acc did not improve\n",
      "Epoch 11/50\n",
      "133/133 [==============================] - 117s 877ms/step - loss: 1.0452 - acc: 0.5598 - val_loss: 1.1985 - val_acc: 0.4863\n",
      "\n",
      "Epoch 00011: val_acc improved from 0.48048 to 0.48634, saving model to result/experiment_RNN1/checkpoints/experiment-improvement-11-0.49.hdf5\n",
      "Epoch 12/50\n",
      "133/133 [==============================] - 119s 896ms/step - loss: 1.0303 - acc: 0.5686 - val_loss: 1.2050 - val_acc: 0.4907\n",
      "\n",
      "Epoch 00012: val_acc improved from 0.48634 to 0.49071, saving model to result/experiment_RNN1/checkpoints/experiment-improvement-12-0.49.hdf5\n",
      "Epoch 13/50\n",
      "133/133 [==============================] - 113s 853ms/step - loss: 1.0178 - acc: 0.5760 - val_loss: 1.1604 - val_acc: 0.5064\n",
      "\n",
      "Epoch 00013: val_acc improved from 0.49071 to 0.50638, saving model to result/experiment_RNN1/checkpoints/experiment-improvement-13-0.51.hdf5\n",
      "Epoch 14/50\n",
      "133/133 [==============================] - 107s 805ms/step - loss: 1.0038 - acc: 0.5839 - val_loss: 1.1448 - val_acc: 0.5145\n",
      "\n",
      "Epoch 00014: val_acc improved from 0.50638 to 0.51451, saving model to result/experiment_RNN1/checkpoints/experiment-improvement-14-0.51.hdf5\n",
      "Epoch 15/50\n",
      "133/133 [==============================] - 137s 1s/step - loss: 0.9942 - acc: 0.5887 - val_loss: 1.1506 - val_acc: 0.5138\n",
      "\n",
      "Epoch 00015: val_acc did not improve\n",
      "Epoch 16/50\n",
      "133/133 [==============================] - 134s 1s/step - loss: 0.9862 - acc: 0.5929 - val_loss: 1.1305 - val_acc: 0.5252\n",
      "\n",
      "Epoch 00016: val_acc improved from 0.51451 to 0.52523, saving model to result/experiment_RNN1/checkpoints/experiment-improvement-16-0.53.hdf5\n",
      "Epoch 17/50\n",
      "133/133 [==============================] - 138s 1s/step - loss: 0.9775 - acc: 0.5978 - val_loss: 1.1096 - val_acc: 0.5374\n",
      "\n",
      "Epoch 00017: val_acc improved from 0.52523 to 0.53736, saving model to result/experiment_RNN1/checkpoints/experiment-improvement-17-0.54.hdf5\n",
      "Epoch 18/50\n",
      "133/133 [==============================] - 136s 1s/step - loss: 0.9678 - acc: 0.6028 - val_loss: 1.0972 - val_acc: 0.5449\n",
      "\n",
      "Epoch 00018: val_acc improved from 0.53736 to 0.54492, saving model to result/experiment_RNN1/checkpoints/experiment-improvement-18-0.54.hdf5\n",
      "Epoch 19/50\n",
      "133/133 [==============================] - 134s 1s/step - loss: 0.9580 - acc: 0.6088 - val_loss: 1.0904 - val_acc: 0.5500\n",
      "\n",
      "Epoch 00019: val_acc improved from 0.54492 to 0.54998, saving model to result/experiment_RNN1/checkpoints/experiment-improvement-19-0.55.hdf5\n",
      "Epoch 20/50\n",
      "133/133 [==============================] - 135s 1s/step - loss: 0.9493 - acc: 0.6128 - val_loss: 1.0812 - val_acc: 0.5511\n",
      "\n",
      "Epoch 00020: val_acc improved from 0.54998 to 0.55111, saving model to result/experiment_RNN1/checkpoints/experiment-improvement-20-0.55.hdf5\n",
      "Epoch 21/50\n",
      "133/133 [==============================] - 135s 1s/step - loss: 0.9412 - acc: 0.6191 - val_loss: 1.1236 - val_acc: 0.5353\n",
      "\n",
      "Epoch 00021: val_acc did not improve\n",
      "Epoch 22/50\n",
      "133/133 [==============================] - 137s 1s/step - loss: 0.9350 - acc: 0.6231 - val_loss: 1.0910 - val_acc: 0.5466\n",
      "\n",
      "Epoch 00022: val_acc did not improve\n",
      "Epoch 23/50\n",
      "133/133 [==============================] - 137s 1s/step - loss: 0.9261 - acc: 0.6271 - val_loss: 1.0183 - val_acc: 0.5759\n",
      "\n",
      "Epoch 00023: val_acc improved from 0.55111 to 0.57593, saving model to result/experiment_RNN1/checkpoints/experiment-improvement-23-0.58.hdf5\n",
      "Epoch 24/50\n",
      "133/133 [==============================] - 134s 1s/step - loss: 0.9119 - acc: 0.6341 - val_loss: 0.9581 - val_acc: 0.6066\n",
      "\n",
      "Epoch 00024: val_acc improved from 0.57593 to 0.60656, saving model to result/experiment_RNN1/checkpoints/experiment-improvement-24-0.61.hdf5\n",
      "Epoch 25/50\n",
      "133/133 [==============================] - 130s 975ms/step - loss: 0.8989 - acc: 0.6418 - val_loss: 0.9704 - val_acc: 0.5995\n",
      "\n",
      "Epoch 00025: val_acc did not improve\n",
      "Epoch 26/50\n",
      "133/133 [==============================] - 143s 1s/step - loss: 0.8923 - acc: 0.6449 - val_loss: 0.9529 - val_acc: 0.6083\n",
      "\n",
      "Epoch 00026: val_acc improved from 0.60656 to 0.60834, saving model to result/experiment_RNN1/checkpoints/experiment-improvement-26-0.61.hdf5\n",
      "Epoch 27/50\n",
      "133/133 [==============================] - 144s 1s/step - loss: 0.8841 - acc: 0.6484 - val_loss: 0.9497 - val_acc: 0.6105\n",
      "\n",
      "Epoch 00027: val_acc improved from 0.60834 to 0.61048, saving model to result/experiment_RNN1/checkpoints/experiment-improvement-27-0.61.hdf5\n",
      "Epoch 28/50\n",
      "133/133 [==============================] - 142s 1s/step - loss: 0.8772 - acc: 0.6516 - val_loss: 0.9436 - val_acc: 0.6140\n",
      "\n",
      "Epoch 00028: val_acc improved from 0.61048 to 0.61402, saving model to result/experiment_RNN1/checkpoints/experiment-improvement-28-0.61.hdf5\n",
      "Epoch 29/50\n",
      "133/133 [==============================] - 142s 1s/step - loss: 0.8708 - acc: 0.6546 - val_loss: 0.9358 - val_acc: 0.6180\n",
      "\n",
      "Epoch 00029: val_acc improved from 0.61402 to 0.61804, saving model to result/experiment_RNN1/checkpoints/experiment-improvement-29-0.62.hdf5\n",
      "Epoch 30/50\n",
      "133/133 [==============================] - 141s 1s/step - loss: 0.8650 - acc: 0.6571 - val_loss: 0.9252 - val_acc: 0.6233\n",
      "\n",
      "Epoch 00030: val_acc improved from 0.61804 to 0.62328, saving model to result/experiment_RNN1/checkpoints/experiment-improvement-30-0.62.hdf5\n",
      "Epoch 31/50\n",
      "133/133 [==============================] - 143s 1s/step - loss: 0.8592 - acc: 0.6598 - val_loss: 0.9133 - val_acc: 0.6291\n",
      "\n",
      "Epoch 00031: val_acc improved from 0.62328 to 0.62914, saving model to result/experiment_RNN1/checkpoints/experiment-improvement-31-0.63.hdf5\n",
      "Epoch 32/50\n",
      "133/133 [==============================] - 142s 1s/step - loss: 0.8535 - acc: 0.6623 - val_loss: 0.9060 - val_acc: 0.6324\n",
      "\n",
      "Epoch 00032: val_acc improved from 0.62914 to 0.63236, saving model to result/experiment_RNN1/checkpoints/experiment-improvement-32-0.63.hdf5\n",
      "Epoch 33/50\n",
      "133/133 [==============================] - 147s 1s/step - loss: 0.8481 - acc: 0.6646 - val_loss: 0.9024 - val_acc: 0.6344\n",
      "\n",
      "Epoch 00033: val_acc improved from 0.63236 to 0.63439, saving model to result/experiment_RNN1/checkpoints/experiment-improvement-33-0.63.hdf5\n",
      "Epoch 34/50\n"
     ]
    },
    {
     "name": "stdout",
     "output_type": "stream",
     "text": [
      "133/133 [==============================] - 145s 1s/step - loss: 0.8431 - acc: 0.6669 - val_loss: 0.8971 - val_acc: 0.6370\n",
      "\n",
      "Epoch 00034: val_acc improved from 0.63439 to 0.63704, saving model to result/experiment_RNN1/checkpoints/experiment-improvement-34-0.64.hdf5\n",
      "Epoch 35/50\n",
      "133/133 [==============================] - 143s 1s/step - loss: 0.8383 - acc: 0.6690 - val_loss: 0.8922 - val_acc: 0.6396\n",
      "\n",
      "Epoch 00035: val_acc improved from 0.63704 to 0.63960, saving model to result/experiment_RNN1/checkpoints/experiment-improvement-35-0.64.hdf5\n",
      "Epoch 36/50\n",
      "133/133 [==============================] - 135s 1s/step - loss: 0.8335 - acc: 0.6709 - val_loss: 0.8872 - val_acc: 0.6421\n",
      "\n",
      "Epoch 00036: val_acc improved from 0.63960 to 0.64207, saving model to result/experiment_RNN1/checkpoints/experiment-improvement-36-0.64.hdf5\n",
      "Epoch 37/50\n",
      "133/133 [==============================] - 124s 929ms/step - loss: 0.8290 - acc: 0.6730 - val_loss: 0.8812 - val_acc: 0.6448\n",
      "\n",
      "Epoch 00037: val_acc improved from 0.64207 to 0.64478, saving model to result/experiment_RNN1/checkpoints/experiment-improvement-37-0.64.hdf5\n",
      "Epoch 38/50\n",
      "133/133 [==============================] - 121s 909ms/step - loss: 0.8244 - acc: 0.6750 - val_loss: 0.8775 - val_acc: 0.6466\n",
      "\n",
      "Epoch 00038: val_acc improved from 0.64478 to 0.64661, saving model to result/experiment_RNN1/checkpoints/experiment-improvement-38-0.65.hdf5\n",
      "Epoch 39/50\n",
      "133/133 [==============================] - 126s 944ms/step - loss: 0.8200 - acc: 0.6767 - val_loss: 0.8786 - val_acc: 0.6469\n",
      "\n",
      "Epoch 00039: val_acc improved from 0.64661 to 0.64694, saving model to result/experiment_RNN1/checkpoints/experiment-improvement-39-0.65.hdf5\n",
      "Epoch 40/50\n",
      "133/133 [==============================] - 137s 1s/step - loss: 0.8156 - acc: 0.6784 - val_loss: 0.8831 - val_acc: 0.6464\n",
      "\n",
      "Epoch 00040: val_acc did not improve\n",
      "Epoch 41/50\n",
      "133/133 [==============================] - 142s 1s/step - loss: 0.8116 - acc: 0.6800 - val_loss: 0.8931 - val_acc: 0.6437\n",
      "\n",
      "Epoch 00041: val_acc did not improve\n",
      "Epoch 42/50\n",
      "133/133 [==============================] - 136s 1s/step - loss: 0.8080 - acc: 0.6816 - val_loss: 0.8994 - val_acc: 0.6424\n",
      "\n",
      "Epoch 00042: val_acc did not improve\n",
      "Epoch 43/50\n",
      "133/133 [==============================] - 127s 951ms/step - loss: 0.8047 - acc: 0.6830 - val_loss: 0.8944 - val_acc: 0.6455\n",
      "\n",
      "Epoch 00043: val_acc did not improve\n",
      "Epoch 44/50\n",
      "133/133 [==============================] - 125s 941ms/step - loss: 0.8011 - acc: 0.6842 - val_loss: 0.8869 - val_acc: 0.6496\n",
      "\n",
      "Epoch 00044: val_acc improved from 0.64694 to 0.64956, saving model to result/experiment_RNN1/checkpoints/experiment-improvement-44-0.65.hdf5\n",
      "Epoch 45/50\n",
      "133/133 [==============================] - 128s 966ms/step - loss: 0.7970 - acc: 0.6857 - val_loss: 0.8926 - val_acc: 0.6486\n",
      "\n",
      "Epoch 00045: val_acc did not improve\n",
      "Epoch 46/50\n",
      "133/133 [==============================] - 143s 1s/step - loss: 0.7938 - acc: 0.6868 - val_loss: 0.8853 - val_acc: 0.6519\n",
      "\n",
      "Epoch 00046: val_acc improved from 0.64956 to 0.65191, saving model to result/experiment_RNN1/checkpoints/experiment-improvement-46-0.65.hdf5\n",
      "Epoch 47/50\n",
      "133/133 [==============================] - 142s 1s/step - loss: 0.7892 - acc: 0.6887 - val_loss: 0.9173 - val_acc: 0.6440\n",
      "\n",
      "Epoch 00047: val_acc did not improve\n",
      "Epoch 48/50\n",
      "133/133 [==============================] - 134s 1s/step - loss: 0.7868 - acc: 0.6896 - val_loss: 0.9198 - val_acc: 0.6443\n",
      "\n",
      "Epoch 00048: val_acc did not improve\n",
      "Epoch 49/50\n",
      "133/133 [==============================] - 123s 925ms/step - loss: 0.7827 - acc: 0.6917 - val_loss: 0.9312 - val_acc: 0.6409\n",
      "\n",
      "Epoch 00049: val_acc did not improve\n",
      "Epoch 50/50\n",
      "133/133 [==============================] - 123s 922ms/step - loss: 0.7803 - acc: 0.6931 - val_loss: 0.9630 - val_acc: 0.6310\n",
      "\n",
      "Epoch 00050: val_acc did not improve\n"
     ]
    }
   ],
   "source": [
    "# =============================Fitting Model=================================\n",
    "hist = model.fit_generator(generator = data_generator(title_batch_generator,\n",
    "                                                      category_encoded_batch_generator,\n",
    "                                                      title_vectorize_fun,\n",
    "                                                      categorical_vectorize_fun,\n",
    "                                                      unique_classes,\n",
    "                                                      max_len_of_title),\n",
    "                               steps_per_epoch=steps_per_epoch,\n",
    "                               validation_data = data_generator(title_batch_generator_val,\n",
    "                                                                category_encoded_batch_generator_val,\n",
    "                                                                title_vectorize_fun,\n",
    "                                                                categorical_vectorize_fun,\n",
    "                                                                unique_classes,\n",
    "                                                                max_len_of_title),\n",
    "                               validation_steps=validation_steps,\n",
    "                               epochs=epoch_num,\n",
    "                               use_multiprocessing=True,\n",
    "                               callbacks=callbacks,\n",
    "                               verbose=1)"
   ]
  },
  {
   "cell_type": "code",
   "execution_count": 14,
   "metadata": {},
   "outputs": [],
   "source": [
    "df_results = pd.DataFrame(data = hist.history)\n",
    "df_results.to_csv(experiment_path+\"results_lists.csv\")"
   ]
  },
  {
   "cell_type": "markdown",
   "metadata": {},
   "source": [
    "# Evaluation"
   ]
  },
  {
   "cell_type": "code",
   "execution_count": 15,
   "metadata": {},
   "outputs": [],
   "source": [
    "# Encode X_test data\n",
    "x_test_encoding = x_test.apply(lambda x: title_vectorize_fun(x,max_len_of_title))\n",
    "x_test_encoding = np.stack(x_test_encoding,axis=0)\n",
    "y_test_encoding = [unique_classes.index(i) for i in y_test]"
   ]
  },
  {
   "cell_type": "code",
   "execution_count": 16,
   "metadata": {},
   "outputs": [
    {
     "name": "stdout",
     "output_type": "stream",
     "text": [
      "result/experiment_RNN1/checkpoints/experiment-improvement-46-0.65.hdf5\n"
     ]
    }
   ],
   "source": [
    "# load max vall_acc model '\n",
    "checkpoints_path_list = os.listdir(checkpoint_path_)\n",
    "all_checkpoints_list = [os.path.join(checkpoint_path_,i) for i in checkpoints_path_list]\n",
    "#Get the last inserted weight into the checkpoint_path\n",
    "all_checkpoints_list_sorted = sorted(all_checkpoints_list, key=os.path.getmtime)\n",
    "epochs_list = [int(re.findall(r'-[0-9|.]*-',path)[0].replace('-',\"\")) for path in all_checkpoints_list_sorted]\n",
    "max_checkpoint = all_checkpoints_list_sorted[epochs_list.index(max(epochs_list))]\n",
    "#load weights\n",
    "print(max_checkpoint)\n",
    "max_model = k.models.load_model(max_checkpoint)"
   ]
  },
  {
   "cell_type": "code",
   "execution_count": 17,
   "metadata": {},
   "outputs": [],
   "source": [
    "predictions = max_model.predict(x_test_encoding)\n",
    "predictions = [int(np.where(i==i.max())[0]) for i in predictions]"
   ]
  },
  {
   "cell_type": "code",
   "execution_count": 18,
   "metadata": {},
   "outputs": [
    {
     "name": "stdout",
     "output_type": "stream",
     "text": [
      "Accuracy :  0.6488246016903009\n",
      "Recall :  0.6488246016903009\n",
      "Precision :  0.6759721962833324\n",
      "F1 :  0.6303038510937047\n"
     ]
    }
   ],
   "source": [
    "print(\"Accuracy : \", matrics.accuracy_score(y_test_encoding, predictions))\n",
    "print(\"Recall : \", matrics.recall_score(y_test_encoding, predictions, average = 'weighted'))\n",
    "print(\"Precision : \", matrics.precision_score(y_test_encoding, predictions, average = 'weighted'))\n",
    "print(\"F1 : \", matrics.f1_score(y_test_encoding, predictions, average = 'weighted'))"
   ]
  },
  {
   "cell_type": "code",
   "execution_count": 19,
   "metadata": {},
   "outputs": [
    {
     "data": {
      "text/plain": [
       "<matplotlib.axes._subplots.AxesSubplot at 0x7fc3c599c240>"
      ]
     },
     "execution_count": 19,
     "metadata": {},
     "output_type": "execute_result"
    },
    {
     "data": {
      "image/png": "[encoded data removed]",
      "text/plain": [
       "<Figure size 648x360 with 2 Axes>"
      ]
     },
     "metadata": {},
     "output_type": "display_data"
    }
   ],
   "source": [
    "fig1 = plt.figure(figsize=(9, 5))\n",
    "confusion_mat = matrics.confusion_matrix(y_test_encoding, predictions)\n",
    "lables = ['Business', 'ScienceTechno', 'Entertainment', 'Health']\n",
    "sns.heatmap(confusion_mat, xticklabels=lables, yticklabels=lables, annot=True, fmt=\"d\")"
   ]
  },
  {
   "cell_type": "code",
   "execution_count": null,
   "metadata": {},
   "outputs": [],
   "source": []
  }
 ],
 "metadata": {
  "kernelspec": {
   "display_name": "Python 3",
   "language": "python",
   "name": "python3"
  },
  "language_info": {
   "codemirror_mode": {
    "name": "ipython",
    "version": 3
   },
   "file_extension": ".py",
   "mimetype": "text/x-python",
   "name": "python",
   "nbconvert_exporter": "python",
   "pygments_lexer": "ipython3",
   "version": "3.5.2"
  }
 },
 "nbformat": 4,
 "nbformat_minor": 2
}
