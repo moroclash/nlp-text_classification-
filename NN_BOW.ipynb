{
 "cells": [
  {
   "cell_type": "code",
   "execution_count": 37,
   "metadata": {},
   "outputs": [],
   "source": [
    "import os\n",
    "import pandas as pd\n",
    "import keras as k\n",
    "import numpy as np\n",
    "import string\n",
    "from sklearn.model_selection import train_test_split\n",
    "import sklearn.feature_extraction.text as sktext\n",
    "import re\n",
    "import math\n",
    "import sklearn.metrics as matrics\n",
    "import seaborn as sns\n",
    "import matplotlib.pyplot as plt\n",
    "from stop_words import get_stop_words\n",
    "%matplotlib inline"
   ]
  },
  {
   "cell_type": "code",
   "execution_count": 52,
   "metadata": {},
   "outputs": [],
   "source": [
    "def title_one_hot(title,maxlen):\n",
    "    \n",
    "    def one(num,length):\n",
    "        vec = np.zeros(length)\n",
    "        vec[num] = 1\n",
    "        return vec\n",
    "    \n",
    "    alphabet1=list(string.ascii_lowercase)+[' ', '\\'' ,','] #Add space and apostrophe to our alphabets\n",
    "    alphabet = dict((c, i) for i, c in enumerate(alphabet1))\n",
    "    alphabet_ = dict((i, c) for i, c in enumerate(alphabet1))\n",
    "    d = maxlen - len(title)\n",
    "    title = title + \" \"*d\n",
    "    data = [one(alphabet[char],len(alphabet1)) for char in title]\n",
    "    return np.asarray(data)\n",
    "\n",
    "        \n",
    "def class_one_hot(class_,list_unique_of_classes):\n",
    "    one_hot_vec = np.zeros([len(list_unique_of_classes)])\n",
    "    one_hot_vec[list_unique_of_classes.index(class_)] = 1\n",
    "    return one_hot_vec\n",
    "\n",
    "\n",
    "\n",
    "def from_one_hot_to_char(arr): \n",
    "    a = []\n",
    "    alphabet1=list(string.ascii_lowercase)+[' ', '\\'' , ','] #Add space and apostrophe to our alphabets\n",
    "    alphabet = dict((c, i) for i, c in enumerate(alphabet1))\n",
    "    alphabet_ = dict((i, c) for i, c in enumerate(alphabet1))\n",
    "    for ii in arr:\n",
    "        a.append([alphabet_[i] for i,l in enumerate(ii) if int(l)==1][0])\n",
    "    return \"\".join(a)\n",
    "\n",
    "def from_one_hot_class_to_str(matrix,list_unique_classes):\n",
    "    class_dic = dict((class_, i) for i, class_ in enumerate(list_unique_classes))\n",
    "    for i,n in enumerate(matrix):\n",
    "        if n == 1:\n",
    "            return list(class_dic.keys())[list(class_dic.values())[i]]\n",
    "        \n",
    "def clean_data(x):\n",
    "    alphabet1=list(string.ascii_lowercase)+[' ', '\\'' ,'\\,']\n",
    "    x = re.sub('[^'+\"\".join(alphabet1)+']', ' ', x).lower()\n",
    "    x = re.sub('  +', ' ', x)\n",
    "    return x.lstrip()\n",
    "\n",
    "def text_to_bag_of_words(X,countVect):\n",
    "    X_train_vectorized = countVect.fit_transform(X)\n",
    "    return X_train_vectorized.toarray()"
   ]
  },
  {
   "cell_type": "markdown",
   "metadata": {},
   "source": [
    "# Read Data"
   ]
  },
  {
   "cell_type": "code",
   "execution_count": 53,
   "metadata": {},
   "outputs": [],
   "source": [
    "data = pd.read_csv('uci-news-aggregator.csv')"
   ]
  },
  {
   "cell_type": "code",
   "execution_count": 54,
   "metadata": {},
   "outputs": [],
   "source": [
    "filterd_data = pd.DataFrame(data={\"title\":data.TITLE ,\"category\":data.CATEGORY})\n",
    "#clean data from very large titles\n",
    "filterd_data.drop(filterd_data[filterd_data.title.apply(len) >100].index,inplace=True)\n",
    "filterd_data.title = filterd_data.title.apply(clean_data)\n",
    "filterd_data.category = filterd_data.category.apply(clean_data)\n",
    "data = None"
   ]
  },
  {
   "cell_type": "code",
   "execution_count": 55,
   "metadata": {},
   "outputs": [
    {
     "data": {
      "text/html": [
       "<div>\n",
       "<style scoped>\n",
       "    .dataframe tbody tr th:only-of-type {\n",
       "        vertical-align: middle;\n",
       "    }\n",
       "\n",
       "    .dataframe tbody tr th {\n",
       "        vertical-align: top;\n",
       "    }\n",
       "\n",
       "    .dataframe thead th {\n",
       "        text-align: right;\n",
       "    }\n",
       "</style>\n",
       "<table border=\"1\" class=\"dataframe\">\n",
       "  <thead>\n",
       "    <tr style=\"text-align: right;\">\n",
       "      <th></th>\n",
       "      <th>category</th>\n",
       "      <th>title</th>\n",
       "    </tr>\n",
       "  </thead>\n",
       "  <tbody>\n",
       "    <tr>\n",
       "      <th>0</th>\n",
       "      <td>b</td>\n",
       "      <td>ed official says weak data caused by weather, ...</td>\n",
       "    </tr>\n",
       "    <tr>\n",
       "      <th>1</th>\n",
       "      <td>b</td>\n",
       "      <td>ed's harles losser sees high bar for change in...</td>\n",
       "    </tr>\n",
       "  </tbody>\n",
       "</table>\n",
       "</div>"
      ],
      "text/plain": [
       "  category                                              title\n",
       "0        b  ed official says weak data caused by weather, ...\n",
       "1        b  ed's harles losser sees high bar for change in..."
      ]
     },
     "execution_count": 55,
     "metadata": {},
     "output_type": "execute_result"
    }
   ],
   "source": [
    "filterd_data.head(2)"
   ]
  },
  {
   "cell_type": "code",
   "execution_count": 56,
   "metadata": {},
   "outputs": [
    {
     "data": {
      "text/plain": [
       "e    152462\n",
       "b    115967\n",
       "t    108342\n",
       "m     45639\n",
       "Name: category, dtype: int64"
      ]
     },
     "execution_count": 56,
     "metadata": {},
     "output_type": "execute_result"
    }
   ],
   "source": [
    "unique_classes = list(filterd_data.category.unique())\n",
    "filterd_data.category.value_counts()"
   ]
  },
  {
   "cell_type": "code",
   "execution_count": 57,
   "metadata": {},
   "outputs": [
    {
     "data": {
      "text/plain": [
       "89"
      ]
     },
     "execution_count": 57,
     "metadata": {},
     "output_type": "execute_result"
    }
   ],
   "source": [
    "max_len_of_title = filterd_data.title.apply(len).max()\n",
    "max_len_of_title"
   ]
  },
  {
   "cell_type": "markdown",
   "metadata": {},
   "source": [
    "# Start training"
   ]
  },
  {
   "cell_type": "code",
   "execution_count": 82,
   "metadata": {},
   "outputs": [],
   "source": [
    "X , Y = filterd_data.title , filterd_data.category\n",
    "# x , x_rest , y , y_rest = train_test_split(X, Y, test_size=0.95, random_state=42)\n",
    "x_train, x_test, y_train, y_test = train_test_split(X,\n",
    "                                                    Y,\n",
    "                                                    test_size=0.2,\n",
    "                                                    random_state=0)\n",
    "\n",
    "x_train, x_val, y_train, y_val = train_test_split(x_train,\n",
    "                                                  y_train,\n",
    "                                                  test_size=0.2,\n",
    "                                                  random_state=0)"
   ]
  },
  {
   "cell_type": "code",
   "execution_count": 83,
   "metadata": {},
   "outputs": [],
   "source": [
    "stop_words = get_stop_words('en')\n",
    "uniq = set(\" \".join(filterd_data.title).split(' '))\n",
    "uniq = set([i for i in uniq if i not in stop_words])\n",
    "countVect = sktext.CountVectorizer(vocabulary=uniq,stop_words='english')"
   ]
  },
  {
   "cell_type": "markdown",
   "metadata": {},
   "source": [
    "# encoding"
   ]
  },
  {
   "cell_type": "code",
   "execution_count": 84,
   "metadata": {},
   "outputs": [
    {
     "name": "stdout",
     "output_type": "stream",
     "text": [
      "Can't create file\n"
     ]
    }
   ],
   "source": [
    "#================================work with batches=============================\n",
    "class generate_one_batch:\n",
    "    def __init__(self,batch_size,dataset):\n",
    "        self.batch_size = batch_size\n",
    "        self.dataset = dataset\n",
    "        self.start = 0\n",
    "\n",
    "    def get_batch(self):\n",
    "        end = self.start+self.batch_size \n",
    "        diff = end - len(self.dataset)\n",
    "        if diff > 0 :\n",
    "            if diff < self.batch_size :\n",
    "                end = len(self.dataset)\n",
    "            else:\n",
    "                self.start = 0\n",
    "                end = self.batch_size\n",
    "        returned_batch = self.dataset[self.start:end]\n",
    "        self.start +=  self.batch_size\n",
    "        return returned_batch \n",
    "\n",
    "\n",
    "\n",
    "def data_generator(title_generator,categorical_generator):\n",
    "    while True:\n",
    "        x = title_generator.get_batch()\n",
    "        x = text_to_bag_of_words(x,countVect)\n",
    "        y = categorical_generator.get_batch()\n",
    "        y = y.apply(lambda x: class_one_hot(x,unique_classes))\n",
    "        y = np.stack(y,axis=0)\n",
    "        yield (x, y)\n",
    "            \n",
    "#===========================================================================\n",
    "\n",
    "batch_size = 1024\n",
    "epoch_num = 10\n",
    "saving_path = 'result/'\n",
    "experiment_name = \"experiment_nn_BOW1\"\n",
    "\n",
    "\n",
    "\n",
    "checkpoint_path_ = saving_path+experiment_name+\"/checkpoints/\"\n",
    "experiment_path = saving_path+experiment_name+\"/\"\n",
    "result_path = saving_path+experiment_name+\"/result/\"\n",
    "try:\n",
    "    os.makedirs(checkpoint_path_)\n",
    "    os.makedirs(result_path)\n",
    "except OSError as e:\n",
    "    print(\"Can't create file\")\n",
    "    \n",
    "checkpoint_path = checkpoint_path_ + \"experiment-improvement-{epoch:02d}-{val_acc:.2f}.hdf5\"\n",
    "# ===========================================================================\n",
    "title_batch_generator = generate_one_batch(batch_size=batch_size, dataset=x_train)\n",
    "category_encoded_batch_generator = generate_one_batch(batch_size=batch_size, dataset=y_train)\n",
    "steps_per_epoch = math.ceil(len(x_train) / batch_size)\n",
    "\n",
    "title_batch_generator_val = generate_one_batch(batch_size=batch_size, dataset=x_val)\n",
    "category_encoded_batch_generator_val = generate_one_batch(batch_size=batch_size, dataset=y_val)\n",
    "validation_steps = math.ceil(len(x_val) / batch_size)\n",
    "# ==========================================================================="
   ]
  },
  {
   "cell_type": "markdown",
   "metadata": {},
   "source": [
    "# build NN"
   ]
  },
  {
   "cell_type": "code",
   "execution_count": 86,
   "metadata": {},
   "outputs": [],
   "source": [
    "model = k.models.Sequential()\n",
    "model.add(k.layers.Dense(40,input_shape=(len(uniq),),activation ='relu'))\n",
    "model.add(k.layers.Dense(40,activation ='relu'))\n",
    "\n",
    "model.add(k.layers.Dense(units = len(unique_classes),activation = 'softmax'))          \n",
    "model.compile(loss='categorical_crossentropy', optimizer='adam',metrics = ['accuracy'])"
   ]
  },
  {
   "cell_type": "markdown",
   "metadata": {},
   "source": [
    "# check points"
   ]
  },
  {
   "cell_type": "code",
   "execution_count": 87,
   "metadata": {},
   "outputs": [],
   "source": [
    "checkpoint = k.callbacks.ModelCheckpoint(checkpoint_path,\n",
    "                             monitor='val_acc',\n",
    "                             verbose=1,\n",
    "                             save_best_only=True,\n",
    "                             mode='max')\n",
    "\n",
    "# ===========================tensorboard=====================================\n",
    "tensorboard = k.callbacks.TensorBoard(log_dir=result_path,\n",
    "                                          histogram_freq=0,\n",
    "                                          batch_size=batch_size,\n",
    "                                          write_graph=True,\n",
    "                                          write_grads=True,\n",
    "                                          write_images=True,\n",
    "                                          embeddings_freq=0,\n",
    "                                          embeddings_layer_names=None,\n",
    "                                          embeddings_metadata=None)\n",
    "\n",
    "callbacks = [checkpoint , tensorboard]"
   ]
  },
  {
   "cell_type": "markdown",
   "metadata": {},
   "source": [
    "# Fit Model"
   ]
  },
  {
   "cell_type": "code",
   "execution_count": 88,
   "metadata": {},
   "outputs": [
    {
     "name": "stdout",
     "output_type": "stream",
     "text": [
      "Epoch 1/10\n",
      "265/265 [==============================] - 1094s 4s/step - loss: 0.4473 - acc: 0.8788 - val_loss: 0.2124 - val_acc: 0.9266\n",
      "\n",
      "Epoch 00001: val_acc improved from -inf to 0.92661, saving model to result/experiment_nn_BOW1/checkpoints/experiment-improvement-01-0.93.hdf5\n",
      "Epoch 2/10\n",
      "265/265 [==============================] - 1118s 4s/step - loss: 0.1642 - acc: 0.9436 - val_loss: 0.2035 - val_acc: 0.9288\n",
      "\n",
      "Epoch 00002: val_acc improved from 0.92661 to 0.92885, saving model to result/experiment_nn_BOW1/checkpoints/experiment-improvement-02-0.93.hdf5\n",
      "Epoch 3/10\n",
      "265/265 [==============================] - 1109s 4s/step - loss: 0.1262 - acc: 0.9567 - val_loss: 0.2118 - val_acc: 0.9277\n",
      "\n",
      "Epoch 00003: val_acc did not improve\n",
      "Epoch 4/10\n",
      "265/265 [==============================] - 1105s 4s/step - loss: 0.1048 - acc: 0.9640 - val_loss: 0.2247 - val_acc: 0.9261\n",
      "\n",
      "Epoch 00004: val_acc did not improve\n",
      "Epoch 5/10\n",
      "  9/265 [>.............................] - ETA: 15:34 - loss: 0.1008 - acc: 0.9651"
     ]
    },
    {
     "name": "stderr",
     "output_type": "stream",
     "text": [
      "Process Process-24:\n"
     ]
    },
    {
     "ename": "KeyboardInterrupt",
     "evalue": "",
     "output_type": "error",
     "traceback": [
      "\u001b[0;31m---------------------------------------------------------------------------\u001b[0m",
      "\u001b[0;31mKeyboardInterrupt\u001b[0m                         Traceback (most recent call last)",
      "\u001b[0;32m<ipython-input-88-976e5474a12b>\u001b[0m in \u001b[0;36m<module>\u001b[0;34m()\u001b[0m\n\u001b[1;32m      7\u001b[0m                            \u001b[0muse_multiprocessing\u001b[0m\u001b[0;34m=\u001b[0m\u001b[0;32mTrue\u001b[0m\u001b[0;34m,\u001b[0m\u001b[0;34m\u001b[0m\u001b[0m\n\u001b[1;32m      8\u001b[0m                            \u001b[0mcallbacks\u001b[0m\u001b[0;34m=\u001b[0m\u001b[0mcallbacks\u001b[0m\u001b[0;34m,\u001b[0m\u001b[0;34m\u001b[0m\u001b[0m\n\u001b[0;32m----> 9\u001b[0;31m                            verbose=1)\n\u001b[0m",
      "\u001b[0;32m/usr/local/lib/python3.5/dist-packages/keras/legacy/interfaces.py\u001b[0m in \u001b[0;36mwrapper\u001b[0;34m(*args, **kwargs)\u001b[0m\n\u001b[1;32m     89\u001b[0m                 warnings.warn('Update your `' + object_name +\n\u001b[1;32m     90\u001b[0m                               '` call to the Keras 2 API: ' + signature, stacklevel=2)\n\u001b[0;32m---> 91\u001b[0;31m             \u001b[0;32mreturn\u001b[0m \u001b[0mfunc\u001b[0m\u001b[0;34m(\u001b[0m\u001b[0;34m*\u001b[0m\u001b[0margs\u001b[0m\u001b[0;34m,\u001b[0m \u001b[0;34m**\u001b[0m\u001b[0mkwargs\u001b[0m\u001b[0;34m)\u001b[0m\u001b[0;34m\u001b[0m\u001b[0m\n\u001b[0m\u001b[1;32m     92\u001b[0m         \u001b[0mwrapper\u001b[0m\u001b[0;34m.\u001b[0m\u001b[0m_original_function\u001b[0m \u001b[0;34m=\u001b[0m \u001b[0mfunc\u001b[0m\u001b[0;34m\u001b[0m\u001b[0m\n\u001b[1;32m     93\u001b[0m         \u001b[0;32mreturn\u001b[0m \u001b[0mwrapper\u001b[0m\u001b[0;34m\u001b[0m\u001b[0m\n",
      "\u001b[0;32m/usr/local/lib/python3.5/dist-packages/keras/models.py\u001b[0m in \u001b[0;36mfit_generator\u001b[0;34m(self, generator, steps_per_epoch, epochs, verbose, callbacks, validation_data, validation_steps, class_weight, max_queue_size, workers, use_multiprocessing, shuffle, initial_epoch)\u001b[0m\n\u001b[1;32m   1274\u001b[0m                                         \u001b[0muse_multiprocessing\u001b[0m\u001b[0;34m=\u001b[0m\u001b[0muse_multiprocessing\u001b[0m\u001b[0;34m,\u001b[0m\u001b[0;34m\u001b[0m\u001b[0m\n\u001b[1;32m   1275\u001b[0m                                         \u001b[0mshuffle\u001b[0m\u001b[0;34m=\u001b[0m\u001b[0mshuffle\u001b[0m\u001b[0;34m,\u001b[0m\u001b[0;34m\u001b[0m\u001b[0m\n\u001b[0;32m-> 1276\u001b[0;31m                                         initial_epoch=initial_epoch)\n\u001b[0m\u001b[1;32m   1277\u001b[0m \u001b[0;34m\u001b[0m\u001b[0m\n\u001b[1;32m   1278\u001b[0m     \u001b[0;34m@\u001b[0m\u001b[0minterfaces\u001b[0m\u001b[0;34m.\u001b[0m\u001b[0mlegacy_generator_methods_support\u001b[0m\u001b[0;34m\u001b[0m\u001b[0m\n",
      "\u001b[0;32m/usr/local/lib/python3.5/dist-packages/keras/legacy/interfaces.py\u001b[0m in \u001b[0;36mwrapper\u001b[0;34m(*args, **kwargs)\u001b[0m\n\u001b[1;32m     89\u001b[0m                 warnings.warn('Update your `' + object_name +\n\u001b[1;32m     90\u001b[0m                               '` call to the Keras 2 API: ' + signature, stacklevel=2)\n\u001b[0;32m---> 91\u001b[0;31m             \u001b[0;32mreturn\u001b[0m \u001b[0mfunc\u001b[0m\u001b[0;34m(\u001b[0m\u001b[0;34m*\u001b[0m\u001b[0margs\u001b[0m\u001b[0;34m,\u001b[0m \u001b[0;34m**\u001b[0m\u001b[0mkwargs\u001b[0m\u001b[0;34m)\u001b[0m\u001b[0;34m\u001b[0m\u001b[0m\n\u001b[0m\u001b[1;32m     92\u001b[0m         \u001b[0mwrapper\u001b[0m\u001b[0;34m.\u001b[0m\u001b[0m_original_function\u001b[0m \u001b[0;34m=\u001b[0m \u001b[0mfunc\u001b[0m\u001b[0;34m\u001b[0m\u001b[0m\n\u001b[1;32m     93\u001b[0m         \u001b[0;32mreturn\u001b[0m \u001b[0mwrapper\u001b[0m\u001b[0;34m\u001b[0m\u001b[0m\n",
      "\u001b[0;32m/usr/local/lib/python3.5/dist-packages/keras/engine/training.py\u001b[0m in \u001b[0;36mfit_generator\u001b[0;34m(self, generator, steps_per_epoch, epochs, verbose, callbacks, validation_data, validation_steps, class_weight, max_queue_size, workers, use_multiprocessing, shuffle, initial_epoch)\u001b[0m\n\u001b[1;32m   2190\u001b[0m                 \u001b[0mbatch_index\u001b[0m \u001b[0;34m=\u001b[0m \u001b[0;36m0\u001b[0m\u001b[0;34m\u001b[0m\u001b[0m\n\u001b[1;32m   2191\u001b[0m                 \u001b[0;32mwhile\u001b[0m \u001b[0msteps_done\u001b[0m \u001b[0;34m<\u001b[0m \u001b[0msteps_per_epoch\u001b[0m\u001b[0;34m:\u001b[0m\u001b[0;34m\u001b[0m\u001b[0m\n\u001b[0;32m-> 2192\u001b[0;31m                     \u001b[0mgenerator_output\u001b[0m \u001b[0;34m=\u001b[0m \u001b[0mnext\u001b[0m\u001b[0;34m(\u001b[0m\u001b[0moutput_generator\u001b[0m\u001b[0;34m)\u001b[0m\u001b[0;34m\u001b[0m\u001b[0m\n\u001b[0m\u001b[1;32m   2193\u001b[0m \u001b[0;34m\u001b[0m\u001b[0m\n\u001b[1;32m   2194\u001b[0m                     \u001b[0;32mif\u001b[0m \u001b[0;32mnot\u001b[0m \u001b[0mhasattr\u001b[0m\u001b[0;34m(\u001b[0m\u001b[0mgenerator_output\u001b[0m\u001b[0;34m,\u001b[0m \u001b[0;34m'__len__'\u001b[0m\u001b[0;34m)\u001b[0m\u001b[0;34m:\u001b[0m\u001b[0;34m\u001b[0m\u001b[0m\n",
      "\u001b[0;32m/usr/local/lib/python3.5/dist-packages/keras/utils/data_utils.py\u001b[0m in \u001b[0;36mget\u001b[0;34m(self)\u001b[0m\n\u001b[1;32m    773\u001b[0m         \u001b[0;32mwhile\u001b[0m \u001b[0mself\u001b[0m\u001b[0;34m.\u001b[0m\u001b[0mis_running\u001b[0m\u001b[0;34m(\u001b[0m\u001b[0;34m)\u001b[0m\u001b[0;34m:\u001b[0m\u001b[0;34m\u001b[0m\u001b[0m\n\u001b[1;32m    774\u001b[0m             \u001b[0;32mif\u001b[0m \u001b[0;32mnot\u001b[0m \u001b[0mself\u001b[0m\u001b[0;34m.\u001b[0m\u001b[0mqueue\u001b[0m\u001b[0;34m.\u001b[0m\u001b[0mempty\u001b[0m\u001b[0;34m(\u001b[0m\u001b[0;34m)\u001b[0m\u001b[0;34m:\u001b[0m\u001b[0;34m\u001b[0m\u001b[0m\n\u001b[0;32m--> 775\u001b[0;31m                 \u001b[0msuccess\u001b[0m\u001b[0;34m,\u001b[0m \u001b[0mvalue\u001b[0m \u001b[0;34m=\u001b[0m \u001b[0mself\u001b[0m\u001b[0;34m.\u001b[0m\u001b[0mqueue\u001b[0m\u001b[0;34m.\u001b[0m\u001b[0mget\u001b[0m\u001b[0;34m(\u001b[0m\u001b[0;34m)\u001b[0m\u001b[0;34m\u001b[0m\u001b[0m\n\u001b[0m\u001b[1;32m    776\u001b[0m                 \u001b[0;31m# Rethrow any exceptions found in the queue\u001b[0m\u001b[0;34m\u001b[0m\u001b[0;34m\u001b[0m\u001b[0m\n\u001b[1;32m    777\u001b[0m                 \u001b[0;32mif\u001b[0m \u001b[0;32mnot\u001b[0m \u001b[0msuccess\u001b[0m\u001b[0;34m:\u001b[0m\u001b[0;34m\u001b[0m\u001b[0m\n",
      "\u001b[0;32m<string>\u001b[0m in \u001b[0;36mget\u001b[0;34m(self, *args, **kwds)\u001b[0m\n",
      "\u001b[0;32m/usr/lib/python3.5/multiprocessing/managers.py\u001b[0m in \u001b[0;36m_callmethod\u001b[0;34m(self, methodname, args, kwds)\u001b[0m\n\u001b[1;32m    715\u001b[0m \u001b[0;34m\u001b[0m\u001b[0m\n\u001b[1;32m    716\u001b[0m         \u001b[0mconn\u001b[0m\u001b[0;34m.\u001b[0m\u001b[0msend\u001b[0m\u001b[0;34m(\u001b[0m\u001b[0;34m(\u001b[0m\u001b[0mself\u001b[0m\u001b[0;34m.\u001b[0m\u001b[0m_id\u001b[0m\u001b[0;34m,\u001b[0m \u001b[0mmethodname\u001b[0m\u001b[0;34m,\u001b[0m \u001b[0margs\u001b[0m\u001b[0;34m,\u001b[0m \u001b[0mkwds\u001b[0m\u001b[0;34m)\u001b[0m\u001b[0;34m)\u001b[0m\u001b[0;34m\u001b[0m\u001b[0m\n\u001b[0;32m--> 717\u001b[0;31m         \u001b[0mkind\u001b[0m\u001b[0;34m,\u001b[0m \u001b[0mresult\u001b[0m \u001b[0;34m=\u001b[0m \u001b[0mconn\u001b[0m\u001b[0;34m.\u001b[0m\u001b[0mrecv\u001b[0m\u001b[0;34m(\u001b[0m\u001b[0;34m)\u001b[0m\u001b[0;34m\u001b[0m\u001b[0m\n\u001b[0m\u001b[1;32m    718\u001b[0m \u001b[0;34m\u001b[0m\u001b[0m\n\u001b[1;32m    719\u001b[0m         \u001b[0;32mif\u001b[0m \u001b[0mkind\u001b[0m \u001b[0;34m==\u001b[0m \u001b[0;34m'#RETURN'\u001b[0m\u001b[0;34m:\u001b[0m\u001b[0;34m\u001b[0m\u001b[0m\n",
      "\u001b[0;32m/usr/lib/python3.5/multiprocessing/connection.py\u001b[0m in \u001b[0;36mrecv\u001b[0;34m(self)\u001b[0m\n\u001b[1;32m    249\u001b[0m         \u001b[0mself\u001b[0m\u001b[0;34m.\u001b[0m\u001b[0m_check_readable\u001b[0m\u001b[0;34m(\u001b[0m\u001b[0;34m)\u001b[0m\u001b[0;34m\u001b[0m\u001b[0m\n\u001b[1;32m    250\u001b[0m         \u001b[0mbuf\u001b[0m \u001b[0;34m=\u001b[0m \u001b[0mself\u001b[0m\u001b[0;34m.\u001b[0m\u001b[0m_recv_bytes\u001b[0m\u001b[0;34m(\u001b[0m\u001b[0;34m)\u001b[0m\u001b[0;34m\u001b[0m\u001b[0m\n\u001b[0;32m--> 251\u001b[0;31m         \u001b[0;32mreturn\u001b[0m \u001b[0mForkingPickler\u001b[0m\u001b[0;34m.\u001b[0m\u001b[0mloads\u001b[0m\u001b[0;34m(\u001b[0m\u001b[0mbuf\u001b[0m\u001b[0;34m.\u001b[0m\u001b[0mgetbuffer\u001b[0m\u001b[0;34m(\u001b[0m\u001b[0;34m)\u001b[0m\u001b[0;34m)\u001b[0m\u001b[0;34m\u001b[0m\u001b[0m\n\u001b[0m\u001b[1;32m    252\u001b[0m \u001b[0;34m\u001b[0m\u001b[0m\n\u001b[1;32m    253\u001b[0m     \u001b[0;32mdef\u001b[0m \u001b[0mpoll\u001b[0m\u001b[0;34m(\u001b[0m\u001b[0mself\u001b[0m\u001b[0;34m,\u001b[0m \u001b[0mtimeout\u001b[0m\u001b[0;34m=\u001b[0m\u001b[0;36m0.0\u001b[0m\u001b[0;34m)\u001b[0m\u001b[0;34m:\u001b[0m\u001b[0;34m\u001b[0m\u001b[0m\n",
      "\u001b[0;31mKeyboardInterrupt\u001b[0m: "
     ]
    }
   ],
   "source": [
    "# =============================Fitting Model=================================\n",
    "hist = model.fit_generator(generator = data_generator(title_batch_generator,category_encoded_batch_generator),\n",
    "                           steps_per_epoch=steps_per_epoch,\n",
    "                           validation_data = data_generator(title_batch_generator_val, category_encoded_batch_generator_val),\n",
    "                           validation_steps=validation_steps,\n",
    "                           epochs=epoch_num,\n",
    "                           use_multiprocessing=True,\n",
    "                           callbacks=callbacks,\n",
    "                           verbose=1)"
   ]
  },
  {
   "cell_type": "code",
   "execution_count": 89,
   "metadata": {},
   "outputs": [
    {
     "ename": "NameError",
     "evalue": "name 'hist' is not defined",
     "output_type": "error",
     "traceback": [
      "\u001b[0;31m---------------------------------------------------------------------------\u001b[0m",
      "\u001b[0;31mNameError\u001b[0m                                 Traceback (most recent call last)",
      "\u001b[0;32m<ipython-input-89-f7e768285903>\u001b[0m in \u001b[0;36m<module>\u001b[0;34m()\u001b[0m\n\u001b[0;32m----> 1\u001b[0;31m \u001b[0mdf_results\u001b[0m \u001b[0;34m=\u001b[0m \u001b[0mpd\u001b[0m\u001b[0;34m.\u001b[0m\u001b[0mDataFrame\u001b[0m\u001b[0;34m(\u001b[0m\u001b[0mdata\u001b[0m \u001b[0;34m=\u001b[0m \u001b[0mhist\u001b[0m\u001b[0;34m.\u001b[0m\u001b[0mhistory\u001b[0m\u001b[0;34m)\u001b[0m\u001b[0;34m\u001b[0m\u001b[0m\n\u001b[0m\u001b[1;32m      2\u001b[0m \u001b[0mdf_results\u001b[0m\u001b[0;34m.\u001b[0m\u001b[0mto_csv\u001b[0m\u001b[0;34m(\u001b[0m\u001b[0mexperiment_path\u001b[0m\u001b[0;34m+\u001b[0m\u001b[0;34m\"results_lists.csv\"\u001b[0m\u001b[0;34m)\u001b[0m\u001b[0;34m\u001b[0m\u001b[0m\n",
      "\u001b[0;31mNameError\u001b[0m: name 'hist' is not defined"
     ]
    }
   ],
   "source": [
    "df_results = pd.DataFrame(data = hist.history)\n",
    "df_results.to_csv(experiment_path+\"results_lists.csv\")"
   ]
  },
  {
   "cell_type": "markdown",
   "metadata": {},
   "source": [
    "# Evaluation"
   ]
  },
  {
   "cell_type": "code",
   "execution_count": 91,
   "metadata": {},
   "outputs": [],
   "source": [
    "# Encode X_test data\n",
    "x_test_encoding =text_to_bag_of_words(x_test,countVect)\n",
    "y_test_encoding = [unique_classes.index(i) for i in y_test]"
   ]
  },
  {
   "cell_type": "code",
   "execution_count": 92,
   "metadata": {},
   "outputs": [
    {
     "name": "stdout",
     "output_type": "stream",
     "text": [
      "result/experiment_nn_BOW1/checkpoints/experiment-improvement-02-0.93.hdf5\n"
     ]
    }
   ],
   "source": [
    "# load max vall_acc model '\n",
    "checkpoints_path_list = os.listdir(checkpoint_path_)\n",
    "all_checkpoints_list = [os.path.join(checkpoint_path_,i) for i in checkpoints_path_list]\n",
    "#Get the last inserted weight into the checkpoint_path\n",
    "all_checkpoints_list_sorted = sorted(all_checkpoints_list, key=os.path.getmtime)\n",
    "epochs_list = [int(re.findall(r'-[0-9|.]*-',path)[0].replace('-',\"\")) for path in all_checkpoints_list_sorted]\n",
    "max_checkpoint = all_checkpoints_list_sorted[epochs_list.index(max(epochs_list))]\n",
    "#load weights\n",
    "print(max_checkpoint)\n",
    "max_model = k.models.load_model(max_checkpoint)"
   ]
  },
  {
   "cell_type": "code",
   "execution_count": 93,
   "metadata": {},
   "outputs": [],
   "source": [
    "predictions = max_model.predict(x_test_encoding)\n",
    "predictions = [int(np.where(i==i.max())[0]) for i in predictions]"
   ]
  },
  {
   "cell_type": "code",
   "execution_count": 94,
   "metadata": {},
   "outputs": [
    {
     "name": "stdout",
     "output_type": "stream",
     "text": [
      "Accuracy :  0.928363438365569\n",
      "Recall :  0.928363438365569\n",
      "Precision :  0.9285770168313147\n",
      "F1 :  0.9284117854710392\n"
     ]
    }
   ],
   "source": [
    "print(\"Accuracy : \", matrics.accuracy_score(y_test_encoding, predictions))\n",
    "print(\"Recall : \", matrics.recall_score(y_test_encoding, predictions, average = 'weighted'))\n",
    "print(\"Precision : \", matrics.precision_score(y_test_encoding, predictions, average = 'weighted'))\n",
    "print(\"F1 : \", matrics.f1_score(y_test_encoding, predictions, average = 'weighted'))"
   ]
  },
  {
   "cell_type": "code",
   "execution_count": 95,
   "metadata": {},
   "outputs": [
    {
     "data": {
      "text/plain": [
       "<matplotlib.axes._subplots.AxesSubplot at 0x7f61359a2f60>"
      ]
     },
     "execution_count": 95,
     "metadata": {},
     "output_type": "execute_result"
    },
    {
     "data": {
      "image/png": "[encoded data removed]",
      "text/plain": [
       "<Figure size 648x360 with 2 Axes>"
      ]
     },
     "metadata": {},
     "output_type": "display_data"
    }
   ],
   "source": [
    "fig1 = plt.figure(figsize=(9, 5))\n",
    "confusion_mat = matrics.confusion_matrix(y_test_encoding, predictions)\n",
    "lables = ['Business', 'ScienceTechno', 'Entertainment', 'Health']\n",
    "sns.heatmap(confusion_mat, xticklabels=lables, yticklabels=lables, annot=True, fmt=\"d\")"
   ]
  },
  {
   "cell_type": "code",
   "execution_count": null,
   "metadata": {},
   "outputs": [],
   "source": []
  }
 ],
 "metadata": {
  "kernelspec": {
   "display_name": "Python 3",
   "language": "python",
   "name": "python3"
  },
  "language_info": {
   "codemirror_mode": {
    "name": "ipython",
    "version": 3
   },
   "file_extension": ".py",
   "mimetype": "text/x-python",
   "name": "python",
   "nbconvert_exporter": "python",
   "pygments_lexer": "ipython3",
   "version": "3.5.2"
  }
 },
 "nbformat": 4,
 "nbformat_minor": 2
}
